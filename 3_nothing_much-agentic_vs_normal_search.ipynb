{
 "cells": [
  {
   "cell_type": "markdown",
   "id": "2544dd96-a13c-42df-ab63-c427e68fd41e",
   "metadata": {},
   "source": [
    "# Lesson 3: Agentic Search"
   ]
  },
  {
   "cell_type": "code",
   "execution_count": 1,
   "id": "d0168aee-bce9-4d60-b827-f86a88187e31",
   "metadata": {
    "height": 198
   },
   "outputs": [],
   "source": [
    "# libraries\n",
    "from dotenv import load_dotenv\n",
    "import os\n",
    "from tavily import TavilyClient\n",
    "\n",
    "# load environment variables from .env file\n",
    "_ = load_dotenv()\n",
    "\n",
    "# connect\n",
    "client = TavilyClient(api_key=os.environ.get(\"TAVILY_API_KEY\"))"
   ]
  },
  {
   "cell_type": "code",
   "execution_count": 2,
   "id": "a2ba84ec-c172-4de7-ac55-e3158a531b23",
   "metadata": {
    "height": 147
   },
   "outputs": [
    {
     "data": {
      "text/plain": [
       "'The Blackwell GPU features enhanced Transformer Engine, Confidential Computing, and a 10 TB/s interconnect for superior AI performance. It includes 208 billion transistors and supports large-scale AI models. Blackwell is designed for generative AI and secure AI training.'"
      ]
     },
     "execution_count": 2,
     "metadata": {},
     "output_type": "execute_result"
    }
   ],
   "source": [
    "# run search\n",
    "result = client.search(\"What is in Nvidia's new Blackwell GPU?\",\n",
    "                       include_answer=True)\n",
    "\n",
    "# print the answer\n",
    "result[\"answer\"]\n"
   ]
  },
  {
   "cell_type": "markdown",
   "id": "d7f3f33c-c7bd-4b7f-9616-b65eef104514",
   "metadata": {},
   "source": [
    "## Regular search"
   ]
  },
  {
   "cell_type": "code",
   "execution_count": 5,
   "id": "876d5092-b8ef-4e38-b4d7-0e80c609bf7a",
   "metadata": {
    "height": 183
   },
   "outputs": [],
   "source": [
    "# choose location (try to change to your own city!)\n",
    "\n",
    "city = \"San Francisco\"\n",
    "\n",
    "query = f\"\"\"\n",
    "    what is the current weather in {city}?\n",
    "    Should I travel there today?\n",
    "   \n",
    "\"\"\"\n",
    "#\"weather.com\""
   ]
  },
  {
   "cell_type": "markdown",
   "id": "2128e40f-11ef-41ed-ac1f-7feeb5546224",
   "metadata": {},
   "source": [
    "> Note: search was modified to return expected results in the event of an exception. High volumes of student traffic sometimes cause rate limit exceptions."
   ]
  },
  {
   "cell_type": "code",
   "execution_count": 6,
   "id": "10084a02-2928-4945-9f7c-ad3f5b33caf7",
   "metadata": {
    "height": 402
   },
   "outputs": [
    {
     "name": "stdout",
     "output_type": "stream",
     "text": [
      "returning previous results due to exception reaching ddg.\n",
      "https://weather.com/weather/today/l/USCA0987:1:US\n",
      "https://weather.com/weather/hourbyhour/l/54f9d8baac32496f6b5497b4bf7a277c3e2e6cc5625de69680e6169e7e38e9a8\n"
     ]
    }
   ],
   "source": [
    "import requests\n",
    "from bs4 import BeautifulSoup\n",
    "from duckduckgo_search import DDGS\n",
    "import re\n",
    "\n",
    "ddg = DDGS()\n",
    "\n",
    "def search(query, max_results=6):\n",
    "    try:\n",
    "        results = ddg.text(query, max_results=max_results)\n",
    "        return [i[\"href\"] for i in results]\n",
    "    except Exception as e:\n",
    "        print(f\"returning previous results due to exception reaching ddg.\")\n",
    "        results = [ # cover case where DDG rate limits due to high deeplearning.ai volume\n",
    "            \"https://weather.com/weather/today/l/USCA0987:1:US\",\n",
    "            \"https://weather.com/weather/hourbyhour/l/54f9d8baac32496f6b5497b4bf7a277c3e2e6cc5625de69680e6169e7e38e9a8\",\n",
    "        ]\n",
    "        return results  \n",
    "\n",
    "\n",
    "for i in search(query):\n",
    "    print(i)"
   ]
  },
  {
   "cell_type": "code",
   "execution_count": 8,
   "id": "d31c432d-8e22-412f-b302-961ace0b00bd",
   "metadata": {
    "height": 268
   },
   "outputs": [],
   "source": [
    "def scrape_weather_info(url):\n",
    "    \"\"\"Scrape content from the given URL\"\"\"\n",
    "    if not url:\n",
    "        return \"Weather information could not be found.\"\n",
    "    \n",
    "    # fetch data\n",
    "    headers = {'User-Agent': 'Mozilla/5.0'}\n",
    "    response = requests.get(url, headers=headers)\n",
    "    if response.status_code != 200:\n",
    "        return \"Failed to retrieve the webpage.\"\n",
    "\n",
    "    # parse result\n",
    "    soup = BeautifulSoup(response.text, 'html.parser')\n",
    "    return soup\n"
   ]
  },
  {
   "cell_type": "markdown",
   "id": "0b67d8ad-a439-4c91-9dfe-7c84998ef644",
   "metadata": {},
   "source": [
    "> Note: This produces a long output, you may want to right click and clear the cell output after you look at it briefly to avoid scrolling past it."
   ]
  },
  {
   "cell_type": "code",
   "execution_count": 9,
   "id": "714d1205-f8fc-4912-b148-2a45da99219c",
   "metadata": {
    "height": 149
   },
   "outputs": [
    {
     "name": "stdout",
     "output_type": "stream",
     "text": [
      "returning previous results due to exception reaching ddg.\n",
      "Website: https://weather.com/weather/today/l/USCA0987:1:US\n",
      "\n",
      "\n",
      "<body><div class=\"appWrapper DaybreakLargeScreen LargeScreen lightTheme twcTheme DaybreakLargeScreen--appWrapper--ZkDop\" id=\"appWrapper\"><div class=\"DaybreakLargeScreen--appContentWrapper--MdeHd appContentWrapper\"><div class=\"region-meta\"><div class=\"removeIfEmpty\" id=\"WxuHtmlHead-meta-\"></div><div class=\"removeIfEmpty\" id=\"WxuNewsroom-meta-bc9f40d5-d941-4fd8-bae2-2d8d63a38bb3\"></div></div><div class=\"regionHeaderWrapper DaybreakLargeScreen--stickyHeader--0Pgu8\"><div class=\"regionHeaderInnerWrapper\"><div class=\"adsSectionOuterWrapper\"><div class=\"adsSectionInnerWrapper\"><div class=\"stickyAdPlaceholder\"></div><div class=\"js-branded-background-ads\" id=\"labBG\"></div><div class=\"js-branded-background-ads\" id=\"wx-hero-content\"></div><div class=\"region-stickyAds regionStickyAds\"><div class=\"removeIfEmpty\" id=\"WxuAd-stickyAds-425f392e-14ee-4059-8218-451bb2b284c0\"><div class=\"adContainer disableHeliosStyles adWrapper BaseAd--adWrapper--ANZ1O BaseAd--hide--hCG8L\"><div class=\"BaseAd--adBackground--Bhbw6 adBackground\"><div class=\"adLabel BaseAd--adLabel--JGSp6\">Advertisement</div><div class=\"ad_module BaseAd--ad_module--ajh9S subs-undefined BaseAd--placeholder--ofteC\" id=\"WX_WindowShade\"></div></div></div></div><div class=\"removeIfEmpty\" id=\"WxuAd-stickyAds-f7bcfbae-bf4e-497f-a5a4-b1d06c6d27d7\"><div class=\"adContainer disableHeliosStyles adWrapper BaseAd--adWrapper--ANZ1O BaseAd--hide--hCG8L\"><div class=\"BaseAd--adBackground--Bhbw6 adBackground\"><div class=\"adLabel BaseAd--adLabel--JGSp6\">Advertisement</div><div class=\"ad_module BaseAd--ad_module--ajh9S subs-undefined\" id=\"WX_Leaderboard\"></div></div></div></div><div class=\"removeIfEmpty\" id=\"WxuAd-stickyAds-53dce052-5465-4609-a555-c3a20ab64ab0\"><div class=\"adContainer disableHeliosStyles adWrapper BaseAd--adWrapper--ANZ1O BaseAd--card--cqv7t BaseAd--hide--hCG8L\"><div class=\"BaseAd--adBackground--Bhbw6 adBackground\"><div class=\"adLabel BaseAd--adLabel--JGSp6\">Advertisement</div><div class=\"ad_module BaseAd--ad_module--ajh9S subs-undefined BaseAd--placeholder--ofteC\" id=\"WX_Hidden\"></div></div></div></div><div class=\"removeIfEmpty\" id=\"WxuAd-stickyAds-fe926b10-58bc-448a-ab09-47e692334250\"><div class=\"adContainer disableHeliosStyles adWrapper BaseAd--adWrapper--ANZ1O BaseAd--card--cqv7t BaseAd--hide--hCG8L\"><div class=\"BaseAd--adBackground--Bhbw6 adBackground\"><div class=\"adLabel BaseAd--adLabel--JGSp6\">Advertisement</div><div class=\"ad_module BaseAd--ad_module--ajh9S subs-undefined BaseAd--placeholder--ofteC\" id=\"MW_Interstitial\"></div></div></div></div></div></div></div><div class=\"region-header regionHeader\" id=\"regionHeader\"><div class=\"removeIfEmpty\" id=\"WxuHeaderLargeScreen-header-9944ec87-e4d4-4f18-b23e-ce4a3fd8a3ba\"><header aria-label=\"Menu\" class=\"MainMenuHeader--MainMenuHeader--RBoq7\" role=\"banner\"><div class=\"MainMenuHeader--wrapper--TVg8M\"><div class=\"MainMenuHeader--wrapperLeft--frN1-\"><a class=\"MainMenuHeader--accessibilityLink--bQU4R Button--secondary--dT8G-\" href=\"#MainContent\" target=\"_self\">Skip to Main Content</a><a class=\"MainMenuHeader--accessibilityLink--bQU4R Button--secondary--dT8G-\" href=\"https://www.essentialaccessibility.com/the-weather-channel?utm_source=theweatherchannelhomepage&amp;utm_medium=iconlarge&amp;utm_term=eachannelpage&amp;utm_content=header&amp;utm_campaign=theweatherchannel\" target=\"_self\">Accessibility Help</a><a class=\"MainMenuHeader--logoLink--9oXv4 Button--default--osTe5 Button--iconOnly--U4gWX\" href=\"/\" target=\"_self\"><span aria-label=\"The Weather Company - Home\" class=\"Icon--iconWrapper--vSeDL\"><svg aria-label=\"The Weather Company - Home\" class=\"MainMenuHeader--twcLogo--MHMAp Icon--icon--ySD-o Icon--lightTheme--Mqfrs\" fill=\"none\" name=\"twc-logo-tm\" viewbox=\"0 0 52 48\" xmlns=\"http://www.w3.org/2000/svg\">\n",
      "<title>The Weather Company</title>\n",
      "<path clip-rule=\"evenodd\" d=\"M48 48H0V0h48v48ZM19.197 37.414c-.548 0-1.05.105-1.633.35-.42.163-.583.245-.967.49l.665 1.119c.64-.431 1.224-.676 1.725-.676.571 0 .7.222.7.886v.245a4.025 4.025 0 0 0-.35-.012c-1.9 0-2.868.653-2.868 2.052 0 1.19.722 1.865 2.051 1.865.49 0 .91-.116 1.202-.326.116-.081.14-.104.361-.314.152.303.479.57.84.722l.827-.956c-.455-.338-.56-.583-.56-1.224v-.105l.036-2.006c0-.64-.023-.827-.105-1.072-.233-.664-.921-1.038-1.924-1.038Zm18.107.012c-.793 0-1.388.257-1.877.804-.525.583-.747 1.295-.747 2.368 0 1.877 1.108 3.09 2.822 3.09.84 0 1.562-.27 2.25-.829l-.607-.932c-.478.396-.979.595-1.515.595-.805 0-1.259-.526-1.259-1.447v-.047h3.451v-.361c0-1.247-.245-2.052-.793-2.611-.384-.397-1.038-.63-1.725-.63ZM7.409 35.234c-1.306 0-2.472.7-3.101 1.877-.373.7-.548 1.505-.548 2.519 0 1.189.326 2.169.98 2.903.664.758 1.527 1.12 2.646 1.12.92 0 1.61-.234 2.25-.758l-.745-1.027a7.262 7.262 0 0 1-.164.128c-.397.268-.781.396-1.224.397-.7 0-1.236-.315-1.563-.91-.244-.443-.337-1.06-.337-2.168 0-.945.139-1.621.454-2.087.291-.432.828-.7 1.376-.7.454 0 .886.152 1.294.455l.735-1.108c-.443-.385-1.248-.64-2.053-.64Zm33.404.012c.059.536.081 1.014.081 1.795l.002 4.714c.005.634.035.812.138 1.08.187.502.723.817 1.388.817.338 0 .664-.058.933-.163l-.268-.933a.519.519 0 0 1-.175.023c-.128 0-.257-.058-.315-.163-.093-.163-.105-.304-.105-1.33v-4.945c-.006-.64-.03-.972-.082-1.257l-1.596.362Zm-30.547 0c.07.245.117.804.117 1.363v6.903h1.585v-4.279c.35-.314.851-.547 1.236-.547.443 0 .606.22.606.815v4.01h1.528v-4.173c0-.676-.035-.77-.151-1.108-.187-.5-.817-.851-1.551-.851-.607 0-1.283.257-1.69.642 0-.07.022-.315.022-.502V36.33c0-.57-.035-1.13-.105-1.457l-1.597.373Zm12.207 2.541c.14.397.21.886.21 1.4v4.325h1.562V39.29c.361-.326.77-.536 1.084-.536.408 0 .526.199.526.875v3.882h1.539v-4.36c0-.373-.036-.63-.118-.851-.186-.513-.769-.863-1.433-.864-.35 0-.759.094-1.073.257-.257.14-.327.186-.688.443a1.53 1.53 0 0 0-.222-.746l-1.387.396Zm6.215 0c.14.397.21.886.21 1.4v4.325h1.562V39.29c.361-.326.77-.536 1.084-.536.408 0 .524.199.524.875v3.882h1.54v-4.36c0-.373-.035-.63-.117-.851-.186-.513-.77-.864-1.434-.864-.35 0-.758.094-1.073.257a5.28 5.28 0 0 0-.688.443c0-.245-.081-.502-.22-.746l-1.389.396ZM19.663 40.9l-.023 1.283c-.233.256-.525.408-.817.408-.396 0-.687-.315-.687-.781 0-.711.373-.91 1.457-.91h.07Zm17.664-2.332c.315 0 .536.117.688.35.14.221.186.455.186.898v.07h-1.806v-.023c0-.828.337-1.295.932-1.295ZM22.1 26.375c-.548 0-1.05.106-1.633.35a4.44 4.44 0 0 0-.968.49l.665 1.119c.641-.431 1.224-.676 1.726-.676.57 0 .699.222.699.886v.245a3.99 3.99 0 0 0-.35-.012c-1.9 0-2.868.653-2.868 2.052 0 1.19.723 1.866 2.052 1.866.49 0 .91-.117 1.201-.327.117-.081.14-.105.361-.314.152.303.479.57.84.722l.827-.956c-.454-.338-.56-.583-.56-1.223v-.106l.036-2.006c0-.64-.023-.827-.105-1.072-.233-.664-.92-1.038-1.923-1.038Zm-5.97.012c-.793 0-1.387.257-1.877.804-.525.583-.746 1.295-.746 2.368 0 1.877 1.107 3.09 2.821 3.09.84 0 1.562-.27 2.25-.829l-.606-.932c-.478.396-.98.594-1.516.594-.804 0-1.259-.525-1.259-1.446v-.046h3.451v-.361c0-1.248-.245-2.053-.793-2.612-.384-.397-1.037-.63-1.725-.63Zm21.651 0c-.793 0-1.388.256-1.878.804-.524.583-.746 1.295-.746 2.368 0 1.877 1.109 3.09 2.823 3.09.839 0 1.562-.27 2.25-.829l-.607-.932c-.478.396-.98.594-1.516.594-.804 0-1.26-.525-1.26-1.446v-.046H40.3v-.361c0-1.248-.244-2.053-.792-2.612-.385-.397-1.038-.63-1.726-.63Zm-12.114-1.294c-.058.443-.059.84-.059 1.423h-.594v1.013h.594l.001 3.498c.004.374.025.492.105.712.175.525.816.874 1.608.874a3.28 3.28 0 0 0 1.272-.268l-.199-.933c-.28.082-.42.117-.56.117-.535 0-.676-.198-.676-.956V27.53h1.003l.397-1.037h-1.4c0-.606.036-1.248.094-1.796l-1.586.397Zm-22.14-.723 1.935 8.173h1.854l.664-3.322c.232-1.18.394-2.315.397-2.332.012.07.105 1.097.385 2.355l.722 3.299h1.785l1.958-8.173h-1.713l-.665 3.078c-.14.677-.42 2.437-.443 2.694 0 0-.199-1.388-.35-2.146L9.31 24.37H7.526l-.723 3.276a27.537 27.537 0 0 0-.42 2.588 21.687 21.687 0 0 0-.43-2.67l-.7-3.194H3.527Zm25.463-.163c.07.245.116.805.116 1.364v6.903h1.586v-4.28c.35-.314.851-.547 1.236-.547.443 0 .606.221.606.816v4.01h1.528V28.3c0-.676-.035-.77-.152-1.108-.186-.5-.816-.85-1.55-.85-.607 0-1.283.256-1.691.64 0-.07.023-.314.023-.5v-1.19c0-.571-.035-1.13-.105-1.457l-1.597.373Zm15.285 2.157c-.175 0-.385.035-.513.093-.292.14-.665.455-.886.758a1.918 1.918 0 0 0-.245-.85l-1.399.372c.129.338.221.944.221 1.748v3.989h1.563v-4.221c.291-.338.606-.502.956-.502a.89.89 0 0 1 .455.117l.431-1.376c-.244-.105-.35-.128-.583-.128Zm-21.71 3.497-.023 1.284c-.233.256-.524.408-.815.408-.397 0-.689-.315-.689-.782 0-.71.374-.91 1.458-.91h.07Zm-6.412-2.332c.315 0 .536.118.688.35.14.222.186.455.186.898v.07h-1.806v-.023c0-.828.338-1.295.932-1.295Zm21.65 0c.316 0 .538.118.69.35.139.222.186.455.186.898v.07H36.87v-.023c0-.827.338-1.295.933-1.295ZM18.65 15.35c-.793 0-1.388.256-1.878.804-.524.583-.746 1.294-.746 2.367 0 1.877 1.108 3.09 2.822 3.09.84 0 1.563-.27 2.25-.829l-.606-.932c-.478.396-.98.594-1.515.594-.805 0-1.26-.524-1.26-1.445v-.047h3.451v-.361c0-1.248-.244-2.053-.792-2.613-.385-.396-1.038-.628-1.726-.628ZM3.48 13.33v1.353h1.982v6.75h1.656v-6.75h1.936l.267-1.353h-5.84Zm6.378-.163c.07.245.117.805.117 1.364v6.903h1.585v-4.28c.35-.314.851-.547 1.236-.548.443 0 .606.222.606.817v4.01h1.528V17.26c0-.676-.035-.77-.152-1.108-.186-.501-.816-.851-1.55-.851-.607 0-1.283.257-1.69.641 0-.07.022-.315.022-.502v-1.189c0-.571-.035-1.13-.105-1.457l-1.597.373Zm8.814 3.323c.315 0 .537.117.688.35.14.221.187.454.187.897v.07h-1.808v-.023c0-.828.338-1.294.933-1.294Z\" fill=\"currentColor\" fill-rule=\"evenodd\"></path>\n",
      "<path d=\"M49.97 2.175V.791h.691a.45.45 0 0 1 .203.05.422.422 0 0 1 .24.397.443.443 0 0 1-.25.416.468.468 0 0 1-.213.054h-.492V1.47h.405c.045 0 .09-.02.133-.058.046-.039.068-.096.068-.173 0-.08-.023-.135-.068-.165a.226.226 0 0 0-.127-.045h-.268v1.146h-.323Zm.85-.649.336.649h-.354l-.323-.649h.342ZM50.5 3c-.208 0-.402-.039-.583-.116A1.507 1.507 0 0 1 49 1.5c0-.208.039-.402.116-.583A1.508 1.508 0 0 1 50.5 0c.208 0 .402.039.583.116a1.507 1.507 0 0 1 .8 1.967 1.51 1.51 0 0 1-.8.8A1.467 1.467 0 0 1 50.5 3Zm0-.371c.208 0 .396-.05.566-.152a1.17 1.17 0 0 0 .409-.409c.101-.171.152-.36.152-.568 0-.208-.05-.396-.152-.566a1.144 1.144 0 0 0-.409-.409A1.075 1.075 0 0 0 50.5.371c-.208 0-.397.051-.568.154a1.144 1.144 0 0 0-.409.409c-.101.17-.152.358-.152.566 0 .208.05.397.152.568.101.17.238.306.409.409.171.101.36.152.568.152Z\" fill=\"currentColor\"></path>\n",
      "</svg>\n",
      "</span></a></div><div class=\"MainMenuHeader--wrapperRight--hvYkI\"><div class=\"HeaderLargeScreen--headerSearch--ch134 Search--Search--WZQcy searchWrapper\" data-testid=\"Search\" role=\"search\"><form autocomplete=\"off\"><div class=\"SearchCombobox--Combobox--V10dt\" tabindex=\"-1\"><div class=\"SearchInput--SearchInput--sGYsi SearchInput--enableSearchIcon--fhKmm SearchInput--MainMenu--JHcxY\"><fieldset class=\"SearchInput--fieldset--GKZYD Fieldset--fieldset--HG-gW\"><legend class=\"Fieldset--legend--gAkkC Accessibility--visuallyHidden--n+vd9\">Type at least three characters to start auto complete. Recently searched locations will be displayed if there is no search query. The first option will be automatically selected. Use up and down arrows to change selection. Use escape to clear.</legend><label class=\"Accessibility--visuallyHidden--n+vd9\" for=\"headerSearch_LocationSearch_input\">Search City or Zip Code</label><input aria-autocomplete=\"list\" aria-controls=\"\" aria-expanded=\"false\" autocapitalize=\"off\" autocomplete=\"off\" class=\"SearchInput--InputField--KQ3i+ Search--inputClass--XYtnA HeaderLargeScreen--searchInputClass--wjW3e\" data-testid=\"searchModalInputBox\" disabled=\"\" id=\"headerSearch_LocationSearch_input\" placeholder=\"Search City or Zip Code\" role=\"combobox\" type=\"text\" value=\"\"/></fieldset><span class=\"Icon--iconWrapper--vSeDL\"><svg class=\"SearchInput--searchIcon--KGKb2 HeaderLargeScreen--searchIcon--by2XI Icon--icon--ySD-o Icon--lightTheme--Mqfrs\" fill=\"none\" name=\"location-2\" viewbox=\"0 0 21 20\" xmlns=\"http://www.w3.org/2000/svg\">\n",
      "<path clip-rule=\"evenodd\" d=\"M8.757 3.54c2.284 0 4.142 1.866 4.142 4.16 0 2.293-1.858 4.16-4.142 4.16-2.283 0-4.141-1.867-4.141-4.16 0-2.294 1.858-4.16 4.141-4.16Zm4.467 8.18a6.016 6.016 0 0 0 1.54-4.02c0-3.327-2.694-6.034-6.007-6.034-3.312 0-6.007 2.707-6.007 6.034s2.695 6.033 6.007 6.033a5.943 5.943 0 0 0 3.023-.828l4.327 5.1a.93.93 0 0 0 1.316.104.94.94 0 0 0 .104-1.32l-4.303-5.07Z\" fill=\"currentColor\" fill-rule=\"evenodd\"></path>\n",
      "</svg>\n",
      "</span></div><div class=\"RecentLocations--container--Vn06V\" role=\"alert\"><div class=\"SearchTitle--container--+V-ia\"><h2 class=\"SearchTitle--text--Us3Z3\" data-testid=\"searchedLocTitle\">Recent Locations</h2><button class=\"Button--default--osTe5 RecentLocations--clearButton--Kia-a\" data-testid=\"clearAll\" type=\"button\">Clear All</button></div><div class=\"RecentLocations--NoResults--XJupj\">You have no recent locations</div></div></div></form></div><div class=\"LanguageSelector--LanguageSelector--+88Kw\" data-testid=\"languageSelectorSection\"><button aria-expanded=\"false\" aria-haspopup=\"menu\" aria-label=\"[object Object]\" class=\"Button--default--osTe5\" data-testid=\"ctaButton\" type=\"button\"><div class=\"LanguageSelector--menuButtonInner--CYH92\"><span class=\"Icon--iconWrapper--vSeDL\"><svg class=\"LanguageSelector--globeIcon--NnLru Icon--icon--ySD-o\" name=\"globe\" viewbox=\"0 0 24 24\"><title>Globe</title><path d=\"M14.227 8.016h-.141c-.047-.023-.352.305-.352.305s-.234.094-.258.141c0 .047-.07 0-.023.07.023.07.164.023.234-.07.094-.07.258-.117.328-.164.07-.07.094-.047.234-.117.141-.047.234-.07.188-.141-.023-.023-.07-.023-.117-.023h-.117zm-1.243-.375c-.117 0-.258.047-.328.164-.047.117 0 .305-.023.398s-.047.305.07.328c.141.023.141-.188.117-.234s-.023-.281.047-.328c.047-.047.117-.164.258-.164.141-.023.258.094.234.211s.023.234.07.234.211-.094.164-.164.047-.352.047-.258.117.164.188.141-.07-.258-.164-.258c-.094-.023-.281-.023-.328 0-.023 0-.094 0-.164-.023s-.141-.023-.188-.023h-.023zm-.679-.305c-.164.07-.234.047-.234.141 0 .07.141.07.211.047a.708.708 0 01.258-.07c.047-.023.023.07.141.07s.281.047.305.023.164-.164.047-.188c-.094-.023-.234-.117-.328-.188-.023-.023-.023-.023-.047-.023-.094 0-.234.141-.398.188zM6.68 7.242c.07.047.211.047.211.117s.047.234.117.211.07-.164.023-.211-.258-.211-.305-.211-.117-.07-.164-.094h-.023c-.07 0 .07.164.117.211zM2.953 5.555c-.141.094-.211.047-.281.117s-.281.141-.211-.023.07-.188-.047-.141-.141.141-.141.211-.188.164-.188.164.164.023.234 0 .023.141-.047.188-.164.141-.281.117-.117-.117-.188-.141c-.047 0-.094.023-.188.07A11.924 11.924 0 00.045 12c0 6.563 5.344 11.93 11.93 11.906.984 0 1.945-.141 2.859-.375a.174.174 0 01-.117-.211c.047-.141-.07-.141-.141-.211-.07-.094.094-.141.07-.188s-.141-.023-.164-.117.094-.258.117-.281c0-.047-.094-.141-.117-.188 0-.047.047-.117.164-.234.094-.094.164-.234.164-.281s-.07-.164-.07-.281c0-.094.07-.141.094-.305 0-.141-.094-.117-.094-.211 0-.117.141-.07.117-.211-.023-.117.07-.211.117-.281s.07-.211.141-.305c.047-.094-.047-.305-.047-.352s.164-.094.094-.188c-.094-.07.023-.141.117-.211.07-.07-.023-.258.047-.516.047-.234.07-.656.07-.703s0-.211-.047-.305c-.07-.117-.141-.188-.234-.234s-.211-.164-.281-.188c-.07 0-.398-.117-.398-.328 0-.188-.234-.328-.258-.469s-.211-.422-.234-.563c0-.117-.305-.164-.328-.328-.047-.164.141-.258.164-.352s-.094-.305-.117-.375c0-.047.211-.258.281-.305s.141-.211.188-.211.047-.141.094-.305c.047-.141-.023-.352-.07-.375s-.094-.188-.141-.258c-.07-.047-.188-.023-.188-.023s.023.141-.094.188c-.141.047-.164-.023-.188-.047-.047-.047-.188-.047-.258-.117s-.164-.164-.258-.188c-.07-.047-.211-.07-.188-.234 0-.164-.164-.258-.234-.281-.047-.023-.164-.094-.234-.047-.047.023-.094 0-.141-.023s-.094-.047-.141-.047c-.094 0-.281-.164-.352-.234s-.117-.164-.234-.164-.141.047-.211.141c-.094.094-.211-.07-.234-.117-.047-.047-.141-.047-.281-.047-.164 0-.258-.211-.305-.234l-.516-.258c-.094-.047-.188-.258-.141-.305s-.07-.234-.07-.234-.188-.211-.258-.211-.281-.375-.398-.492-.398-.352-.445-.469-.07-.305-.188-.211c-.141.094-.023.188.117.305s.117.211.305.352.117.305.188.352c.07.07.352.234.234.328-.117.117-.234-.141-.305-.141-.047-.023-.164-.047-.164-.117.023-.07-.094-.141-.188-.258s-.141-.047-.258-.047 0-.141.047-.211c.07-.07-.07-.164-.141-.188s-.188-.328-.305-.516-.188-.281-.305-.258-.164-.141-.258-.188c-.07-.047-.211-.305-.328-.445-.141-.141-.258-.398-.234-.539s.047-.516.047-.609-.07-.328-.07-.352c0-.047-.07-.117-.117-.117-.047-.023-.211-.211-.328-.211s-.188-.141-.164-.234c.047-.094-.117-.258-.164-.258-.07 0-.164-.164-.211-.258s-.141-.094-.117-.047 0 .141.047.164c.07.023.117.234.07.281-.047.023-.188-.094-.305-.141-.141-.07-.07-.328-.07-.398s-.188-.141-.281-.141c-.07 0-.164.023-.164-.164 0-.164-.258-.258-.328-.258-.094 0-.516-.164-.656-.164s-.375-.117-.445-.07-.234-.094-.305-.094-.07.047-.234.141zm11.203 6.703c.117-.023.211.188.047.211h-.023c-.117 0-.141-.211-.023-.234zm1.782-.141c.117-.023.211.164.047.211h-.023c-.117 0-.141-.211-.023-.234zm-.774.164c-.07-.047-.117-.094-.234-.094-.07 0-.234-.023-.234-.023s.234-.211.328-.211c.094-.023.211-.047.305-.023.117.023.281.094.281.281-.023.164-.094.023-.141.023-.023 0-.141.07-.234.07h-.047zm-2.062-.773s.328-.094.398-.094.281 0 .398.094.305.211.398.188.258.141.234.188-.234.047-.305-.023c-.07-.047-.305-.164-.375-.234-.047-.07-.352-.047-.492-.047h-.164c-.07 0-.141-.023-.117-.094zm1.007-.375c.117-.023.211.117.047.141h-.023c-.117 0-.141-.117-.023-.141zm-.375-5.86c.117-.047.164.07.094.117h-.047c-.094 0-.164-.07-.047-.117zm-.515-.093c.094-.094.234 0 .188.047 0 .023-.023.023-.07.023-.07 0-.164-.047-.141-.07zm-2.578-1.711c.07-.023.305-.047.352 0 .07.047.117.234.07.258-.047 0-.023.07-.188.164-.164.07-.211-.164-.234-.211 0-.023-.07-.023-.141 0-.047 0-.094.023-.141.023-.094 0-.141-.141-.07-.188.047-.047.141-.023.211-.023h.141zm.656.094c-.023-.07.258-.188.328-.211s.141.047.234.07c.094 0 .07.141 0 .164-.07 0-.258.023-.375.047h-.047c-.094 0-.141-.047-.141-.047zm-.024-.375c.047-.117.281-.07.305.047.023.047-.047.07-.094.07-.094 0-.234-.047-.211-.094zm-.539-.211c.164-.023.234.07.234.117s-.117.188-.234.164h-.07c-.047 0-.047 0-.094-.07-.047-.094-.328-.047-.375-.047s-.094.164-.164.188-.117-.07-.07-.07c.023-.023-.047-.211.023-.258.047-.047.281-.047.469-.023h.281zm-3.468-.071c.047 0 .398-.117.586-.141s.258.07.281.117.445.07.445.07.211.117.234.141c.047.023.141 0 .188-.047s.07-.117.211-.141.141.117.234.141c.07.023.117 0 .188-.047.094-.047.141.047.141.047s-.047.164-.047.234c0 .047-.094.07-.117.117s-.305 0-.422-.023c-.094-.023-.328-.023-.398 0s-.258.023-.328 0-.07-.141-.141-.188c-.047-.047-.188.07-.258.094s-.188-.117-.164-.188c0-.07-.258-.023-.305 0s-.234.023-.352.023-.211 0-.188-.047c.023-.07.117-.07.188-.07s-.047-.117 0-.117zm4.922.399s-.258-.07-.305-.164c-.07-.094-.305-.094-.422-.141s-.281-.117-.375-.164-.047-.188-.047-.164.188.07.305.094c.234.047.211.047.305.07s.281.164.375.211c.07.047.164.117.258.117h1.102c.07 0 .422.07.398.094s-.047.094-.211.094-.469-.023-.68-.047-.398.023-.398.023l-.281-.023zm-3.61-.586c.164-.047.305-.164.422-.164s.047.188.047.234c.023.047-.117.07-.188.047-.047-.047-.234.023-.305.023s-.094-.094 0-.141zm1.195-.117c.023-.117.141-.094.258-.117.117 0 .281 0 .422.047.164.047.141.047.211.117s.094.188.023.188-.117-.023-.258-.047c-.117-.023-.094-.047-.117-.094s-.258 0-.352 0-.188-.047-.188-.117zM3.234 3.961c.188.023.469.023.516.023s.328.094.492.047.258.023.305.047.07.023.141.094.141.023.234-.047c.094-.047.07-.117.07-.117l.094-.023c.07-.023.141.023.352.047.234.023.164-.047.328-.094a.474.474 0 01.258.023c.047.023.094.047.117.023.047-.023.117-.117.164-.07s.117.164.117.164.164-.141.211-.141.211.047.305.047c.094-.023.445-.023.539.047.07.07.281.047.398.117s.211-.047.164-.07-.188-.141-.188-.141-.211-.234-.234-.281-.07-.047-.117.07-.258.117-.492.117-.07-.117-.328-.117c-.258-.023-.164-.117-.07-.117.07 0 .141-.164.164-.258s.117-.07.305-.07h.422c.094.023.141 0 .188-.023s.094-.047.188-.023c.188.023.094.047.188.117.117.07.164.047.328.117.141.07.094.07.164.07.07.023.281-.023.422-.047s.234-.023.305.047.047.164.141.234-.047-.234-.047-.352.188-.023.305-.023.258-.047.281.023c.023.047-.188.141-.07.258s.211.164.305.164.352.023.234.164-.398.141-.492.141-.258.047-.211.141c.047.07.258.047.398.047s.609.047.727 0 .094-.188-.047-.234-.023-.117.117-.094c.07.023.117 0 .164 0s.094-.023.07 0c-.023.047.023.141.023.234 0 .117.047.164.141.141s.117-.047.211-.047c.094-.023.047-.234-.023-.352-.047-.117-.094-.188-.07-.258 0-.07.164-.07.234-.023.07.07.188.211.188.211s.164.094.211.211.07.07.188.023c.117-.07.141-.047.234.023s.023.211.023.234c0 .047.117 0 .141-.07 0-.094.141-.094.188-.117.07-.023.07-.188.07-.188s-.164-.047-.352-.023c-.164.023-.234-.023-.375-.117s-.047-.164-.117-.258.211-.141.398-.234c.164-.07.328-.023.305.164-.023.211-.047.164.141.141.164-.047-.047-.211.07-.234a2.67 2.67 0 01.398-.047c.094.023.516-.047.633-.047s.281.094.398.164c.141.07.469.164.539.211.094.047.633.117.703.141.047.023.047.188.117.328.047.141.188.047.258.047.047 0 .234.094.281.164s.445.117.445.117-.117.117-.141.164c-.047.047-.164.07-.211.117-.094.047-.164-.023-.281-.07-.094-.07-.281-.117-.328-.094s0 .07.023.117c.047.047.211.094.328.188.141.07.094.164.117.258 0 .117-.094-.047-.234-.07s-.141.117-.141.117-.164-.023-.234-.023c-.094 0 0 0-.164-.117-.07-.07-.117-.023-.141 0s-.023.047-.07.023c-.094-.047-.164-.141-.188-.117s-.07-.023-.117-.047-.094-.07-.141-.047h-.211c-.117 0-.234-.023-.281 0-.07.023-.141.023-.211.047-.094.023-.094-.188-.07-.258.047-.07.141-.07.328-.047.164.047.188 0 .234-.07s.07-.141.258-.188 0-.094-.07-.117c-.047-.023-.117-.07-.164 0s-.141.164-.141.164-.094 0-.258-.023-.047-.07.023-.094c.047-.023.141-.188.07-.234s-.094-.07-.211-.047-.047-.094-.117-.141c-.094-.047-.047.023-.047.07s-.117.047-.117.047-.188-.023-.258 0-.188.07-.141.117.164.047.211.164-.164.141-.211.164c-.047 0-.188.07-.188.07s-.164-.047-.305-.047-.164.023-.141.07.094.023.141.023.047.07.141.047c.117-.023.094-.07.211.047s.211.094.398.188-.023.211-.117.211-.094-.07-.141-.164c-.07-.07-.281.023-.281.023s-.188.094-.281.094-.164-.023-.047-.117-.141-.094-.141-.234-.047.141-.047.211c0 .047-.047.047-.117.023h-.211c-.234.023-.188.117-.492.305-.281.188-.352.234-.328.398s.094.117.211.164c.117.023.07.234.188.211.094-.023.164-.07.352.023s.281.117.516.164.375.117.492.07c.141-.023.188 0 .188.117 0 .094.094.117.07.234 0 .117.141-.117.141-.117s.07.211.023.234c-.07.023.023.141.07.141h.07c.047 0 .117.023.164-.023.07-.07-.047-.258-.047-.352 0-.07-.07-.117-.117-.211-.047-.07.094-.094.164-.023.047.07.141.023.234-.047s.094-.188.094-.188-.164-.211-.281-.258-.047-.07.07-.094 0-.07.023-.211c.047-.141.047-.234.117-.234.047 0 .305-.047.492-.023s.305.164.422.164c.141 0 .352.047.398.117s-.164.07-.047.188c.094.117.094.094.188.141s.211.023.328-.141c.094-.164.164-.164.211-.117.047.023.305.328.375.398s.188.211.211.281.188.07.258.07c.047 0 .258.141.281.234 0 .094.047.117.234.141.188.047 0 .188-.023.281-.047.07-.047.117-.117.211-.023.047-.023.047 0 .047s.047-.023.07 0c.07.047.094.094.188.07s.141 0 .188.094c.047.07.117.141.141.211s0 .164-.07.117c-.07-.07-.234-.023-.234-.023s-.094.07-.117.047c-.023-.047-.07-.094-.188-.07a.204.204 0 01-.164 0h-.117c-.094.023-.141-.047-.07-.117.07-.047.07-.258.211-.328s.094-.211 0-.211-.141.117-.188.141c-.07.023-.141.023-.258.094-.094.07-.352.047-.234.07.094.023-.164.141-.211.141-.094 0-.07-.164-.07-.234s-.117.047-.117.047-.211-.117-.281-.047-.188.117-.305.211c-.094.07-.328.211-.328.211s.094-.047.234-.07c.164-.047.141-.023.281-.094s.258-.094.375.023c.094.117-.023.188-.023.188s.047.094.117.117c.047.023.047-.023.141-.07s.047.117.07.164c.047.047.117.047.188 0 .07-.07.094-.117.141-.07s.07.141.117.234-.258.117-.328.141c-.07 0-.305.07-.352.07-.047.023-.164.141-.281.141s-.094-.164-.117-.258c0-.094-.117.023-.141.047-.023.047-.141.023-.234.047-.094 0-.258.094-.258.211s.094.164.07.211-.258.094-.352.07-.234.047-.188.094.047.141-.07.117c-.094 0-.094.094-.07.164.047.07-.117.211-.141.141-.047-.047-.117-.07-.117 0s.023.141.117.258c.07.117-.164.164-.281.258-.094.07-.398.352-.539.398s-.141.234-.07.305c.094.07.141.352.188.445s-.023.352-.141.352c-.117-.023-.07-.164-.188-.211s-.188-.281-.211-.445c-.047-.164-.07-.07-.141-.023-.094.047-.164-.117-.188-.141s-.117 0-.211 0c-.07 0-.164.023-.234.023-.164-.023-.211.07-.211.094 0 .047-.023.164-.188.07-.141-.07-.164-.07-.328-.07-.141 0-.281 0-.305.047s-.164.164-.258.188-.281.164-.188.188c.07.023.07.211.023.328s-.047.305-.023.492.188.305.328.422.211.164.352.047.211-.047.234-.023c.047.023.141-.07.117-.188-.047-.117.047-.234.188-.211.047 0 .117 0 .188-.023.07 0 .141-.023.188-.023.117 0 .141.258 0 .375-.164.117-.07.281-.094.398s-.141.141 0 .141.094.023.188.047.164-.07.281-.094c.094 0 .328.211.281.305a.983.983 0 00-.07.469c.047.164.07.164.117.234.023.047.141.164.258.117s.234-.094.281-.141.305.094.281.141c-.023.023.094.07.164.023.094-.023.117-.094.188-.211a.672.672 0 01.281-.211c.047 0 .211-.164.328-.141.094.023-.047.164-.047.234 0 .094 0 .305.047.328.07 0 .047-.164.117-.281.07-.141.211-.188.281-.188s.117.258.211.211c.094-.07.281-.047.328.023.023.07.07.117.07.117s.07-.047.07-.117c0-.094.211-.141.352-.07s.094.094.164.117c.07 0 .141-.164.164-.188.047-.023 0 .211-.094.328-.117.094.07.07.094.117.023.023.047.023.094 0 .047 0 .117 0 .141.023.047.047.164.094.234.258.094.117.211.094.375.07s.375.07.539.258c.164.164.117.305.234.305s.141.141.141.188-.234.164-.352.188c-.141 0-.141.141.07.117.211-.047.117-.117.258-.141.141-.047.258.047.164.211-.141.164-.375.164-.164.188s.094-.047.211-.188c.117-.164.117-.117.188-.117.094 0 .258.047.328.094s.234.141.352.188c.117.07.258.047.328.023s.328.07.398.188c.07.094.258.117.375.164.094.047.234.188.234.328.023.141-.141.422-.141.492-.023.047-.234.305-.422.469s-.07.352-.07.422c.023.07-.141.375-.094.445s-.047.211-.141.328c-.094.094-.141.258-.188.352-.07.094-.234.07-.398.117-.164.023-.234.07-.234.07s-.305.117-.445.234c-.164.117.047.305-.023.445s-.164.141-.234.305c-.047.117-.094.094-.117.07-.023 0-.047-.023-.07 0-.07.047-.117.141-.117.258-.023.094-.141.211-.328.375-.164.164-.281.141-.469.07-.188-.047-.164-.516-.188-.445s-.023.305.023.352c.023.047.117.211.164.234.07.047.047.117 0 .164-.047.07-.211.305-.258.328s-.469.07-.563.023c-.07-.047-.117.094-.117.188.023.094.094.164-.07.141s-.352-.117-.352-.047.047.211.117.211.164-.047.117.047-.141.164-.211.211c-.047.047-.117.164-.258.258s-.141.141-.117.188.234.023.281.047-.047.211-.094.258-.281.234-.375.281-.094.211-.047.328c4.453-1.406 7.781-5.344 8.273-10.125-.117-.094-.047-.211-.07-.328-.023-.141-.164-.188-.094-.211s.047-.094.234-.281c0-.141.023-.281.023-.422v-.094c-.047-.094-.117-.258-.023-.422a11.765 11.765 0 00-2.766-7.125 5.65 5.65 0 01-.398.047c-.094 0-.234.211-.258.258s-.328 0-.422 0-.188.117-.375.141c-.164.023-.094.141-.07.234 0 .094-.047.141-.141.117-.117-.023-.094.047-.117.117s.023.188-.094.281c-.094.07-.141.117-.258.094-.117 0-.117-.211-.141-.188-.047 0-.234.141-.281.07s-.281-.234-.375-.258c-.094-.047-.164-.188-.188-.258-.047-.07.117-.07.07-.07-.047-.023-.211-.047-.258-.094s-.141-.258-.164-.328c0-.07.141-.164.141-.211 0-.023-.141-.023-.188-.023s-.117-.141-.047-.281.211-.094.211-.094h.117c.07 0 .047.164.023.234s.047.07.094.094.07-.07.07-.117c0-.07-.117-.211-.188-.281-.047-.07-.234-.094-.258-.047s-.164.234-.211.188-.047-.445-.117-.563-.328-.141-.445-.211c-.094-.047-.492-.117-.563-.117-.023 0-.094 0-.141.023a.482.482 0 01-.258 0c-.094-.023-.094-.211-.094-.211s-.07.188-.094.234c-.047.047-.141.07-.188.047s-.164-.234-.281-.258h-.117c-.047 0-.094 0-.164-.047-.141-.117.258-.094.281-.094s.328-.07.352-.141c0-.094.094-.188.234-.141.141.023.211-.094.188-.211s.258-.234.305-.164c.047.047.281 0 .211-.117s.281-.211.609-.234.422.023.492.07.281.047.398-.023A11.889 11.889 0 0011.992.304c-3.469 0-6.586 1.5-8.766 3.867z\"></path></svg>\n",
      "</span><span class=\"LanguageSelector--LanguageSelectorStatus--bxy1o\" data-testid=\"languageSelectorStatus\">US</span><span class=\"LanguageSelector--unitDisplay--8FGMs\">°F</span><span aria-label=\"chevron down\" class=\"Icon--iconWrapper--vSeDL\"><svg aria-label=\"chevron down\" class=\"LanguageSelector--arrowIcon--3yZiR Icon--icon--ySD-o\" fill=\"none\" name=\"chevron\" viewbox=\"0 0 20 20\" xmlns=\"http://www.w3.org/2000/svg\">\n",
      "<path d=\"M10 14.25 3.75 8l.875-.875L10 12.5l5.375-5.375.875.875L10 14.25Z\" fill=\"currentColor\"></path>\n",
      "</svg>\n",
      "</span></div></button><nav aria-hidden=\"true\" class=\"ExpandableMenu--ExpandableMenu--DLqTu ExpandableMenu--fullWidth--IQ-7i LanguageSelector--LanguageSelectorMenu--zgBne\" hidden=\"\" tabindex=\"-1\"><div class=\"ExpandableMenu--inner--d7mmL ExpandableMenu--bottomRoundBorder--jWs31 ExpandableMenu--outline--U4tFj ExpandableMenu--fullWidthInner--f9K1d LanguageSelector--menuInner--MBEon\"><div class=\"ExpandableMenu--innerPadding--t-XyG\"><section class=\"UnitSelector--UnitSelector--P+TRg LanguageSelector--unitSelectorContainer--rEQQ3\" data-testid=\"unitSelectorSection\"><ul aria-labelledby=\"UnitSelectorTabsLabel\" class=\"TabList--tabList--9QUOW UnitSelector--UnitSelectorTabList--pVhsa TabList--center--iDXfC\" data-testid=\"unitSelectorBar\" id=\"UnitSelectorTabs\" role=\"tablist\"><li aria-controls=\"UnitSelectorTabs-tabpanel_0\" aria-selected=\"true\" class=\"UnitSelector--UnitSelectorInactiveTab--wj0Uj TabList--tab--2mk3x TabList--default--IQyjF UnitSelector--UnitSelectorActiveTab--UrPsj undefined TabList--tabSelected--T4YuL\" data-testid=\"degreesFbutton\" id=\"UnitSelectorTabs-tab_0\" role=\"tab\" selected=\"\" tabindex=\"0\">°F</li><li aria-controls=\"UnitSelectorTabs-tabpanel_1\" aria-selected=\"false\" class=\"UnitSelector--UnitSelectorInactiveTab--wj0Uj TabList--tab--2mk3x TabList--default--IQyjF UnitSelector--UnitSelectorInactiveTab--wj0Uj\" data-testid=\"degreesCbutton\" id=\"UnitSelectorTabs-tab_1\" role=\"tab\" tabindex=\"0\">°C</li><li aria-controls=\"UnitSelectorTabs-tabpanel_2\" aria-selected=\"false\" class=\"UnitSelector--UnitSelectorInactiveTab--wj0Uj TabList--tab--2mk3x TabList--default--IQyjF UnitSelector--UnitSelectorInactiveTab--wj0Uj\" data-testid=\"hybridButton\" id=\"UnitSelectorTabs-tab_2\" role=\"tab\" tabindex=\"0\">Hybrid</li></ul><div aria-hidden=\"false\" aria-labelledby=\"UnitSelectorTabs-tab_0\" id=\"UnitSelectorTabs-tabpanel_0\" role=\"tabpanel\" theme=\"default\"><div class=\"UnitSelector--UnitSelectorPanel--GB-wb\" data-testid=\"imperialUnits\">Imperial - F / mph / miles / inches</div></div><div aria-hidden=\"true\" aria-labelledby=\"UnitSelectorTabs-tab_1\" hidden=\"\" id=\"UnitSelectorTabs-tabpanel_1\" role=\"tabpanel\" theme=\"default\"></div><div aria-hidden=\"true\" aria-labelledby=\"UnitSelectorTabs-tab_2\" hidden=\"\" id=\"UnitSelectorTabs-tabpanel_2\" role=\"tabpanel\" theme=\"default\"></div></section><div class=\"CountryList--languageSection--dx-S7\" data-testid=\"LanguageSection\"><details class=\"LanguageSelector--LanguageSection--wi4vW Disclosure--themeList--vEbAF\"><summary class=\"Disclosure--Summary--kMIqY CountryList--Summary--ZaOpZ LanguageSelector--Summary--PpuWo\"><div class=\"Disclosure--SummaryDefault--h4p1H\">Americas<span class=\"Icon--iconWrapper--vSeDL\"><svg class=\"Disclosure--SummaryIcon--ldYIx Icon--icon--ySD-o\" fill=\"none\" name=\"add\" viewbox=\"0 0 20 21\" xmlns=\"http://www.w3.org/2000/svg\">\n",
      "<title>Add</title>\n",
      "<path d=\"M10.625 9.875V5.5h-1.25v4.375H5v1.25h4.375V15.5h1.25v-4.375H15v-1.25h-4.375Z\" fill=\"currentColor\"></path>\n",
      "</svg>\n",
      "</span></div></summary><div class=\"LanguageSelector--Content--IY8mH\"><div class=\"CountryList--listContainer--CGSwd LanguageSelector--RegionBlock--xZ5YM\"><a class=\"ListItem--listItem--UuEqg ListItem--disableBorder--mVHYd CountryList--DisclosureLink--mHV3q LanguageSelector--RegionLink--DISY0 Button--default--osTe5\" href=\"/en-AG/weather/today/l/368425437d3d0f1d19146f31746760b223149ec51b637bb4cd8cda0832eb63cf\" target=\"_self\">Antigua and Barbuda | English</a><a class=\"ListItem--listItem--UuEqg ListItem--disableBorder--mVHYd CountryList--DisclosureLink--mHV3q LanguageSelector--RegionLink--DISY0 Button--default--osTe5\" href=\"/es-AR/weather/today/l/368425437d3d0f1d19146f31746760b223149ec51b637bb4cd8cda0832eb63cf\" target=\"_self\">Argentina | Español</a><a class=\"ListItem--listItem--UuEqg ListItem--disableBorder--mVHYd CountryList--DisclosureLink--mHV3q LanguageSelector--RegionLink--DISY0 Button--default--osTe5\" href=\"/en-BS/weather/today/l/368425437d3d0f1d19146f31746760b223149ec51b637bb4cd8cda0832eb63cf\" target=\"_self\">Bahamas | English</a><a class=\"ListItem--listItem--UuEqg ListItem--disableBorder--mVHYd CountryList--DisclosureLink--mHV3q LanguageSelector--RegionLink--DISY0 Button--default--osTe5\" href=\"/en-BB/weather/today/l/368425437d3d0f1d19146f31746760b223149ec51b637bb4cd8cda0832eb63cf\" target=\"_self\">Barbados | English</a><a class=\"ListItem--listItem--UuEqg ListItem--disableBorder--mVHYd CountryList--DisclosureLink--mHV3q LanguageSelector--RegionLink--DISY0 Button--default--osTe5\" href=\"/en-BZ/weather/today/l/368425437d3d0f1d19146f31746760b223149ec51b637bb4cd8cda0832eb63cf\" target=\"_self\">Belize | English</a><a class=\"ListItem--listItem--UuEqg ListItem--disableBorder--mVHYd CountryList--DisclosureLink--mHV3q LanguageSelector--RegionLink--DISY0 Button--default--osTe5\" href=\"/es-BO/weather/today/l/368425437d3d0f1d19146f31746760b223149ec51b637bb4cd8cda0832eb63cf\" target=\"_self\">Bolivia | Español</a><a class=\"ListItem--listItem--UuEqg ListItem--disableBorder--mVHYd CountryList--DisclosureLink--mHV3q LanguageSelector--RegionLink--DISY0 Button--default--osTe5\" href=\"/pt-BR/weather/today/l/368425437d3d0f1d19146f31746760b223149ec51b637bb4cd8cda0832eb63cf\" target=\"_self\">Brazil | Português</a><a class=\"ListItem--listItem--UuEqg ListItem--disableBorder--mVHYd CountryList--DisclosureLink--mHV3q LanguageSelector--RegionLink--DISY0 Button--default--osTe5\" href=\"/en-CA/weather/today/l/368425437d3d0f1d19146f31746760b223149ec51b637bb4cd8cda0832eb63cf\" target=\"_self\">Canada | English</a><a class=\"ListItem--listItem--UuEqg ListItem--disableBorder--mVHYd CountryList--DisclosureLink--mHV3q LanguageSelector--RegionLink--DISY0 Button--default--osTe5\" href=\"/fr-CA/weather/today/l/368425437d3d0f1d19146f31746760b223149ec51b637bb4cd8cda0832eb63cf\" target=\"_self\">Canada | Français</a><a class=\"ListItem--listItem--UuEqg ListItem--disableBorder--mVHYd CountryList--DisclosureLink--mHV3q LanguageSelector--RegionLink--DISY0 Button--default--osTe5\" href=\"/es-CL/weather/today/l/368425437d3d0f1d19146f31746760b223149ec51b637bb4cd8cda0832eb63cf\" target=\"_self\">Chile | Español</a><a class=\"ListItem--listItem--UuEqg ListItem--disableBorder--mVHYd CountryList--DisclosureLink--mHV3q LanguageSelector--RegionLink--DISY0 Button--default--osTe5\" href=\"/es-CO/weather/today/l/368425437d3d0f1d19146f31746760b223149ec51b637bb4cd8cda0832eb63cf\" target=\"_self\">Colombia | Español</a><a class=\"ListItem--listItem--UuEqg ListItem--disableBorder--mVHYd CountryList--DisclosureLink--mHV3q LanguageSelector--RegionLink--DISY0 Button--default--osTe5\" href=\"/es-CR/weather/today/l/368425437d3d0f1d19146f31746760b223149ec51b637bb4cd8cda0832eb63cf\" target=\"_self\">Costa Rica | Español</a><a class=\"ListItem--listItem--UuEqg ListItem--disableBorder--mVHYd CountryList--DisclosureLink--mHV3q LanguageSelector--RegionLink--DISY0 Button--default--osTe5\" href=\"/en-DM/weather/today/l/368425437d3d0f1d19146f31746760b223149ec51b637bb4cd8cda0832eb63cf\" target=\"_self\">Dominica | English</a><a class=\"ListItem--listItem--UuEqg ListItem--disableBorder--mVHYd CountryList--DisclosureLink--mHV3q LanguageSelector--RegionLink--DISY0 Button--default--osTe5\" href=\"/es-DO/weather/today/l/368425437d3d0f1d19146f31746760b223149ec51b637bb4cd8cda0832eb63cf\" target=\"_self\">Dominican Republic | Español</a><a class=\"ListItem--listItem--UuEqg ListItem--disableBorder--mVHYd CountryList--DisclosureLink--mHV3q LanguageSelector--RegionLink--DISY0 Button--default--osTe5\" href=\"/es-EC/weather/today/l/368425437d3d0f1d19146f31746760b223149ec51b637bb4cd8cda0832eb63cf\" target=\"_self\">Ecuador | Español</a><a class=\"ListItem--listItem--UuEqg ListItem--disableBorder--mVHYd CountryList--DisclosureLink--mHV3q LanguageSelector--RegionLink--DISY0 Button--default--osTe5\" href=\"/es-SV/weather/today/l/368425437d3d0f1d19146f31746760b223149ec51b637bb4cd8cda0832eb63cf\" target=\"_self\">El Salvador | Español</a><a class=\"ListItem--listItem--UuEqg ListItem--disableBorder--mVHYd CountryList--DisclosureLink--mHV3q LanguageSelector--RegionLink--DISY0 Button--default--osTe5\" href=\"/en-GD/weather/today/l/368425437d3d0f1d19146f31746760b223149ec51b637bb4cd8cda0832eb63cf\" target=\"_self\">Grenada | English</a><a class=\"ListItem--listItem--UuEqg ListItem--disableBorder--mVHYd CountryList--DisclosureLink--mHV3q LanguageSelector--RegionLink--DISY0 Button--default--osTe5\" href=\"/es-GT/weather/today/l/368425437d3d0f1d19146f31746760b223149ec51b637bb4cd8cda0832eb63cf\" target=\"_self\">Guatemala | Español</a><a class=\"ListItem--listItem--UuEqg ListItem--disableBorder--mVHYd CountryList--DisclosureLink--mHV3q LanguageSelector--RegionLink--DISY0 Button--default--osTe5\" href=\"/en-GY/weather/today/l/368425437d3d0f1d19146f31746760b223149ec51b637bb4cd8cda0832eb63cf\" target=\"_self\">Guyana | English</a><a class=\"ListItem--listItem--UuEqg ListItem--disableBorder--mVHYd CountryList--DisclosureLink--mHV3q LanguageSelector--RegionLink--DISY0 Button--default--osTe5\" href=\"/fr-HT/weather/today/l/368425437d3d0f1d19146f31746760b223149ec51b637bb4cd8cda0832eb63cf\" target=\"_self\">Haiti | Français</a><a class=\"ListItem--listItem--UuEqg ListItem--disableBorder--mVHYd CountryList--DisclosureLink--mHV3q LanguageSelector--RegionLink--DISY0 Button--default--osTe5\" href=\"/es-HN/weather/today/l/368425437d3d0f1d19146f31746760b223149ec51b637bb4cd8cda0832eb63cf\" target=\"_self\">Honduras | Español</a><a class=\"ListItem--listItem--UuEqg ListItem--disableBorder--mVHYd CountryList--DisclosureLink--mHV3q LanguageSelector--RegionLink--DISY0 Button--default--osTe5\" href=\"/en-JM/weather/today/l/368425437d3d0f1d19146f31746760b223149ec51b637bb4cd8cda0832eb63cf\" target=\"_self\">Jamaica | English</a><a class=\"ListItem--listItem--UuEqg ListItem--disableBorder--mVHYd CountryList--DisclosureLink--mHV3q LanguageSelector--RegionLink--DISY0 Button--default--osTe5\" href=\"/es-MX/weather/today/l/368425437d3d0f1d19146f31746760b223149ec51b637bb4cd8cda0832eb63cf\" target=\"_self\">Mexico | Español</a><a class=\"ListItem--listItem--UuEqg ListItem--disableBorder--mVHYd CountryList--DisclosureLink--mHV3q LanguageSelector--RegionLink--DISY0 Button--default--osTe5\" href=\"/es-NI/weather/today/l/368425437d3d0f1d19146f31746760b223149ec51b637bb4cd8cda0832eb63cf\" target=\"_self\">Nicaragua | Español</a><a class=\"ListItem--listItem--UuEqg ListItem--disableBorder--mVHYd CountryList--DisclosureLink--mHV3q LanguageSelector--RegionLink--DISY0 Button--default--osTe5\" href=\"/es-PA/weather/today/l/368425437d3d0f1d19146f31746760b223149ec51b637bb4cd8cda0832eb63cf\" target=\"_self\">Panama | Español</a><a class=\"ListItem--listItem--UuEqg ListItem--disableBorder--mVHYd CountryList--DisclosureLink--mHV3q LanguageSelector--RegionLink--DISY0 Button--default--osTe5\" href=\"/en-PA/weather/today/l/368425437d3d0f1d19146f31746760b223149ec51b637bb4cd8cda0832eb63cf\" target=\"_self\">Panama | English</a><a class=\"ListItem--listItem--UuEqg ListItem--disableBorder--mVHYd CountryList--DisclosureLink--mHV3q LanguageSelector--RegionLink--DISY0 Button--default--osTe5\" href=\"/es-PY/weather/today/l/368425437d3d0f1d19146f31746760b223149ec51b637bb4cd8cda0832eb63cf\" target=\"_self\">Paraguay | Español</a><a class=\"ListItem--listItem--UuEqg ListItem--disableBorder--mVHYd CountryList--DisclosureLink--mHV3q LanguageSelector--RegionLink--DISY0 Button--default--osTe5\" href=\"/es-PE/weather/today/l/368425437d3d0f1d19146f31746760b223149ec51b637bb4cd8cda0832eb63cf\" target=\"_self\">Peru | Español</a><a class=\"ListItem--listItem--UuEqg ListItem--disableBorder--mVHYd CountryList--DisclosureLink--mHV3q LanguageSelector--RegionLink--DISY0 Button--default--osTe5\" href=\"/en-KN/weather/today/l/368425437d3d0f1d19146f31746760b223149ec51b637bb4cd8cda0832eb63cf\" target=\"_self\">St. Kitts and Nevis | English</a><a class=\"ListItem--listItem--UuEqg ListItem--disableBorder--mVHYd CountryList--DisclosureLink--mHV3q LanguageSelector--RegionLink--DISY0 Button--default--osTe5\" href=\"/en-LC/weather/today/l/368425437d3d0f1d19146f31746760b223149ec51b637bb4cd8cda0832eb63cf\" target=\"_self\">St. Lucia | English</a><a class=\"ListItem--listItem--UuEqg ListItem--disableBorder--mVHYd CountryList--DisclosureLink--mHV3q LanguageSelector--RegionLink--DISY0 Button--default--osTe5\" href=\"/en-VC/weather/today/l/368425437d3d0f1d19146f31746760b223149ec51b637bb4cd8cda0832eb63cf\" target=\"_self\">St. Vincent and the Grenadines | English</a><a class=\"ListItem--listItem--UuEqg ListItem--disableBorder--mVHYd CountryList--DisclosureLink--mHV3q LanguageSelector--RegionLink--DISY0 Button--default--osTe5\" href=\"/nl-SR/weather/today/l/368425437d3d0f1d19146f31746760b223149ec51b637bb4cd8cda0832eb63cf\" target=\"_self\">Suriname | Nederlands</a><a class=\"ListItem--listItem--UuEqg ListItem--disableBorder--mVHYd CountryList--DisclosureLink--mHV3q LanguageSelector--RegionLink--DISY0 Button--default--osTe5\" href=\"/en-TT/weather/today/l/368425437d3d0f1d19146f31746760b223149ec51b637bb4cd8cda0832eb63cf\" target=\"_self\">Trinidad and Tobago | English</a><a class=\"ListItem--listItem--UuEqg ListItem--disableBorder--mVHYd CountryList--DisclosureLink--mHV3q LanguageSelector--RegionLink--DISY0 Button--default--osTe5\" href=\"/es-UY/weather/today/l/368425437d3d0f1d19146f31746760b223149ec51b637bb4cd8cda0832eb63cf\" target=\"_self\">Uruguay | Español</a><a class=\"ListItem--listItem--UuEqg ListItem--disableBorder--mVHYd CountryList--DisclosureLink--mHV3q LanguageSelector--RegionLink--DISY0 Button--default--osTe5\" href=\"/weather/today/l/368425437d3d0f1d19146f31746760b223149ec51b637bb4cd8cda0832eb63cf\" target=\"_self\">United States | English</a><a class=\"ListItem--listItem--UuEqg ListItem--disableBorder--mVHYd CountryList--DisclosureLink--mHV3q LanguageSelector--RegionLink--DISY0 Button--default--osTe5\" href=\"/es-US/weather/today/l/368425437d3d0f1d19146f31746760b223149ec51b637bb4cd8cda0832eb63cf\" target=\"_self\">United States | Español</a><a class=\"ListItem--listItem--UuEqg ListItem--disableBorder--mVHYd CountryList--DisclosureLink--mHV3q LanguageSelector--RegionLink--DISY0 Button--default--osTe5\" href=\"/es-VE/weather/today/l/368425437d3d0f1d19146f31746760b223149ec51b637bb4cd8cda0832eb63cf\" target=\"_self\">Venezuela | Español</a></div></div></details><details class=\"LanguageSelector--LanguageSection--wi4vW Disclosure--themeList--vEbAF\"><summary class=\"Disclosure--Summary--kMIqY CountryList--Summary--ZaOpZ LanguageSelector--Summary--PpuWo\"><div class=\"Disclosure--SummaryDefault--h4p1H\">Africa<span class=\"Icon--iconWrapper--vSeDL\"><svg class=\"Disclosure--SummaryIcon--ldYIx Icon--icon--ySD-o\" fill=\"none\" name=\"add\" viewbox=\"0 0 20 21\" xmlns=\"http://www.w3.org/2000/svg\">\n",
      "<title>Add</title>\n",
      "<path d=\"M10.625 9.875V5.5h-1.25v4.375H5v1.25h4.375V15.5h1.25v-4.375H15v-1.25h-4.375Z\" fill=\"currentColor\"></path>\n",
      "</svg>\n",
      "</span></div></summary><div class=\"LanguageSelector--Content--IY8mH\"><div class=\"CountryList--listContainer--CGSwd LanguageSelector--RegionBlock--xZ5YM\"><a class=\"ListItem--listItem--UuEqg ListItem--disableBorder--mVHYd CountryList--DisclosureLink--mHV3q LanguageSelector--RegionLink--DISY0 Button--default--osTe5\" href=\"/ar-DZ/weather/today/l/368425437d3d0f1d19146f31746760b223149ec51b637bb4cd8cda0832eb63cf\" target=\"_self\">Algeria | العربية</a><a class=\"ListItem--listItem--UuEqg ListItem--disableBorder--mVHYd CountryList--DisclosureLink--mHV3q LanguageSelector--RegionLink--DISY0 Button--default--osTe5\" href=\"/fr-DZ/weather/today/l/368425437d3d0f1d19146f31746760b223149ec51b637bb4cd8cda0832eb63cf\" target=\"_self\">Algeria | Français</a><a class=\"ListItem--listItem--UuEqg ListItem--disableBorder--mVHYd CountryList--DisclosureLink--mHV3q LanguageSelector--RegionLink--DISY0 Button--default--osTe5\" href=\"/pt-AO/weather/today/l/368425437d3d0f1d19146f31746760b223149ec51b637bb4cd8cda0832eb63cf\" target=\"_self\">Angola | Português</a><a class=\"ListItem--listItem--UuEqg ListItem--disableBorder--mVHYd CountryList--DisclosureLink--mHV3q LanguageSelector--RegionLink--DISY0 Button--default--osTe5\" href=\"/fr-BJ/weather/today/l/368425437d3d0f1d19146f31746760b223149ec51b637bb4cd8cda0832eb63cf\" target=\"_self\">Benin | Français</a><a class=\"ListItem--listItem--UuEqg ListItem--disableBorder--mVHYd CountryList--DisclosureLink--mHV3q LanguageSelector--RegionLink--DISY0 Button--default--osTe5\" href=\"/fr-BF/weather/today/l/368425437d3d0f1d19146f31746760b223149ec51b637bb4cd8cda0832eb63cf\" target=\"_self\">Burkina Faso | Français</a><a class=\"ListItem--listItem--UuEqg ListItem--disableBorder--mVHYd CountryList--DisclosureLink--mHV3q LanguageSelector--RegionLink--DISY0 Button--default--osTe5\" href=\"/fr-BI/weather/today/l/368425437d3d0f1d19146f31746760b223149ec51b637bb4cd8cda0832eb63cf\" target=\"_self\">Burundi | Français</a><a class=\"ListItem--listItem--UuEqg ListItem--disableBorder--mVHYd CountryList--DisclosureLink--mHV3q LanguageSelector--RegionLink--DISY0 Button--default--osTe5\" href=\"/fr-CM/weather/today/l/368425437d3d0f1d19146f31746760b223149ec51b637bb4cd8cda0832eb63cf\" target=\"_self\">Cameroon | Français</a><a class=\"ListItem--listItem--UuEqg ListItem--disableBorder--mVHYd CountryList--DisclosureLink--mHV3q LanguageSelector--RegionLink--DISY0 Button--default--osTe5\" href=\"/en-CM/weather/today/l/368425437d3d0f1d19146f31746760b223149ec51b637bb4cd8cda0832eb63cf\" target=\"_self\">Cameroon | English</a><a class=\"ListItem--listItem--UuEqg ListItem--disableBorder--mVHYd CountryList--DisclosureLink--mHV3q LanguageSelector--RegionLink--DISY0 Button--default--osTe5\" href=\"/pt-CV/weather/today/l/368425437d3d0f1d19146f31746760b223149ec51b637bb4cd8cda0832eb63cf\" target=\"_self\">Cape Verde | Português</a><a class=\"ListItem--listItem--UuEqg ListItem--disableBorder--mVHYd CountryList--DisclosureLink--mHV3q LanguageSelector--RegionLink--DISY0 Button--default--osTe5\" href=\"/fr-CF/weather/today/l/368425437d3d0f1d19146f31746760b223149ec51b637bb4cd8cda0832eb63cf\" target=\"_self\">Central African Republic | Français</a><a class=\"ListItem--listItem--UuEqg ListItem--disableBorder--mVHYd CountryList--DisclosureLink--mHV3q LanguageSelector--RegionLink--DISY0 Button--default--osTe5\" href=\"/fr-TD/weather/today/l/368425437d3d0f1d19146f31746760b223149ec51b637bb4cd8cda0832eb63cf\" target=\"_self\">Chad | Français</a><a class=\"ListItem--listItem--UuEqg ListItem--disableBorder--mVHYd CountryList--DisclosureLink--mHV3q LanguageSelector--RegionLink--DISY0 Button--default--osTe5\" href=\"/ar-TD/weather/today/l/368425437d3d0f1d19146f31746760b223149ec51b637bb4cd8cda0832eb63cf\" target=\"_self\">Chad | العربية</a><a class=\"ListItem--listItem--UuEqg ListItem--disableBorder--mVHYd CountryList--DisclosureLink--mHV3q LanguageSelector--RegionLink--DISY0 Button--default--osTe5\" href=\"/fr-KM/weather/today/l/368425437d3d0f1d19146f31746760b223149ec51b637bb4cd8cda0832eb63cf\" target=\"_self\">Comoros | Français</a><a class=\"ListItem--listItem--UuEqg ListItem--disableBorder--mVHYd CountryList--DisclosureLink--mHV3q LanguageSelector--RegionLink--DISY0 Button--default--osTe5\" href=\"/ar-KM/weather/today/l/368425437d3d0f1d19146f31746760b223149ec51b637bb4cd8cda0832eb63cf\" target=\"_self\">Comoros | العربية</a><a class=\"ListItem--listItem--UuEqg ListItem--disableBorder--mVHYd CountryList--DisclosureLink--mHV3q LanguageSelector--RegionLink--DISY0 Button--default--osTe5\" href=\"/fr-CD/weather/today/l/368425437d3d0f1d19146f31746760b223149ec51b637bb4cd8cda0832eb63cf\" target=\"_self\">Democratic Republic of the Congo | Français</a><a class=\"ListItem--listItem--UuEqg ListItem--disableBorder--mVHYd CountryList--DisclosureLink--mHV3q LanguageSelector--RegionLink--DISY0 Button--default--osTe5\" href=\"/fr-CG/weather/today/l/368425437d3d0f1d19146f31746760b223149ec51b637bb4cd8cda0832eb63cf\" target=\"_self\">Republic of Congo | Français</a><a class=\"ListItem--listItem--UuEqg ListItem--disableBorder--mVHYd CountryList--DisclosureLink--mHV3q LanguageSelector--RegionLink--DISY0 Button--default--osTe5\" href=\"/fr-CI/weather/today/l/368425437d3d0f1d19146f31746760b223149ec51b637bb4cd8cda0832eb63cf\" target=\"_self\">Côte d'Ivoire | Français</a><a class=\"ListItem--listItem--UuEqg ListItem--disableBorder--mVHYd CountryList--DisclosureLink--mHV3q LanguageSelector--RegionLink--DISY0 Button--default--osTe5\" href=\"/fr-DJ/weather/today/l/368425437d3d0f1d19146f31746760b223149ec51b637bb4cd8cda0832eb63cf\" target=\"_self\">Djibouti | Français</a><a class=\"ListItem--listItem--UuEqg ListItem--disableBorder--mVHYd CountryList--DisclosureLink--mHV3q LanguageSelector--RegionLink--DISY0 Button--default--osTe5\" href=\"/ar-DJ/weather/today/l/368425437d3d0f1d19146f31746760b223149ec51b637bb4cd8cda0832eb63cf\" target=\"_self\">Djibouti | العربية</a><a class=\"ListItem--listItem--UuEqg ListItem--disableBorder--mVHYd CountryList--DisclosureLink--mHV3q LanguageSelector--RegionLink--DISY0 Button--default--osTe5\" href=\"/ar-EG/weather/today/l/368425437d3d0f1d19146f31746760b223149ec51b637bb4cd8cda0832eb63cf\" target=\"_self\">Egypt | العربية</a><a class=\"ListItem--listItem--UuEqg ListItem--disableBorder--mVHYd CountryList--DisclosureLink--mHV3q LanguageSelector--RegionLink--DISY0 Button--default--osTe5\" href=\"/es-GQ/weather/today/l/368425437d3d0f1d19146f31746760b223149ec51b637bb4cd8cda0832eb63cf\" target=\"_self\">Equatorial Guinea | Español</a><a class=\"ListItem--listItem--UuEqg ListItem--disableBorder--mVHYd CountryList--DisclosureLink--mHV3q LanguageSelector--RegionLink--DISY0 Button--default--osTe5\" href=\"/ar-ER/weather/today/l/368425437d3d0f1d19146f31746760b223149ec51b637bb4cd8cda0832eb63cf\" target=\"_self\">Eritrea | العربية</a><a class=\"ListItem--listItem--UuEqg ListItem--disableBorder--mVHYd CountryList--DisclosureLink--mHV3q LanguageSelector--RegionLink--DISY0 Button--default--osTe5\" href=\"/fr-GA/weather/today/l/368425437d3d0f1d19146f31746760b223149ec51b637bb4cd8cda0832eb63cf\" target=\"_self\">Gabon | Français</a><a class=\"ListItem--listItem--UuEqg ListItem--disableBorder--mVHYd CountryList--DisclosureLink--mHV3q LanguageSelector--RegionLink--DISY0 Button--default--osTe5\" href=\"/en-GM/weather/today/l/368425437d3d0f1d19146f31746760b223149ec51b637bb4cd8cda0832eb63cf\" target=\"_self\">Gambia | English</a><a class=\"ListItem--listItem--UuEqg ListItem--disableBorder--mVHYd CountryList--DisclosureLink--mHV3q LanguageSelector--RegionLink--DISY0 Button--default--osTe5\" href=\"/en-GH/weather/today/l/368425437d3d0f1d19146f31746760b223149ec51b637bb4cd8cda0832eb63cf\" target=\"_self\">Ghana | English<\n"
     ]
    }
   ],
   "source": [
    "# use DuckDuckGo to find websites and take the first result\n",
    "url = search(query)[0]\n",
    "\n",
    "# scrape first wesbsite\n",
    "soup = scrape_weather_info(url)\n",
    "\n",
    "print(f\"Website: {url}\\n\\n\")\n",
    "print(str(soup.body)[:50000]) # limit long outputs"
   ]
  },
  {
   "cell_type": "code",
   "execution_count": 10,
   "id": "6cb3ef4c-58b3-401b-b104-0d51e553d982",
   "metadata": {
    "height": 251
   },
   "outputs": [
    {
     "name": "stdout",
     "output_type": "stream",
     "text": [
      "Website: https://weather.com/weather/today/l/USCA0987:1:US\n",
      "\n",
      "\n",
      "Recent Locations Weather Forecasts Radar & Maps News & Media Products & Account Lifestyle Specialty Forecasts San Francisco, CA Weather Today in San Francisco, CA 6:47 am 7:24 pm Hourly Weather - San Francisco, CA Now Cloudy 11 pm Cloudy 12 am Mostly Cloudy 1 am Mostly Cloudy Don't Miss Seasonal Hub 10 Day Weather - San Francisco, CA Tonight Night Cloudy skies. Low near 60F. Winds WNW at 5 to 10 mph. Thu 11 Day Cloudy early with partial sunshine expected late. High 71F. Winds W at 10 to 20 mph. Night Partly cloudy early with increasing clouds overnight. Low 59F. Winds W at 10 to 15 mph. Fri 12 Day Mostly cloudy early, then afternoon sunshine. High near 70F. Winds WSW at 10 to 20 mph. Night A few clouds from time to time. Expect mist and reduced visibilities at times. Low 58F. Winds WSW at 10 to 20 mph. Sat 13 Day Mostly cloudy skies early will become partly cloudy later in the day. High around 70F. Winds WSW at 10 to 20 mph. Night Clear skies with a few passing clouds. Low 59F. Winds W at 10 to 20 mph. Radar Travel We Love Our Critters Summer And Your Skin Home, Garage & Garden Editor's Pick Keeping You Healthy Product Reviews & Deals Your Fall Guide To The Best Tailgating Grills Best Sunscreen Of 2025: Our Top 10 Picks Air Purifiers: How To Clean Your Air (And Our Top Picks) Summer Shedding? Here Are The Best Pet Hair Removers Stay Safe Don't Miss Out On These Air Quality Index Air quality is considered satisfactory, and air pollution poses little or no risk. Health & Activities Seasonal Allergies and Pollen Count Forecast Ragweed pollen is low in your area Cold & Flu Forecast Flu risk is very low in your area Happening Near San Francisco, CA Popular Nextdoor posts We recognize our responsibility to use data and technology for good. We may use or share your data with our data vendors. Take control of your data. The Weather Channel is the world's most accurate forecaster according to ForecastWatch, Global and Regional Weather Forecast Accuracy Overview , 2021-2024, commissioned by The Weather Company . Weather Channel © The Weather Company, LLC 2025\n"
     ]
    }
   ],
   "source": [
    "# extract text\n",
    "weather_data = []\n",
    "for tag in soup.find_all(['h1', 'h2', 'h3', 'p']):\n",
    "    text = tag.get_text(\" \", strip=True)\n",
    "    weather_data.append(text)\n",
    "\n",
    "# combine all elements into a single string\n",
    "weather_data = \"\\n\".join(weather_data)\n",
    "\n",
    "# remove all spaces from the combined text\n",
    "weather_data = re.sub(r'\\s+', ' ', weather_data)\n",
    "    \n",
    "print(f\"Website: {url}\\n\\n\")\n",
    "print(weather_data)"
   ]
  },
  {
   "cell_type": "markdown",
   "id": "92db676d-d8d9-4558-8dcf-1b20fcb48e45",
   "metadata": {},
   "source": [
    "## Agentic Search"
   ]
  },
  {
   "cell_type": "code",
   "execution_count": 11,
   "id": "dc3293b7-a50c-43c8-a022-8975e1e444b8",
   "metadata": {
    "height": 132
   },
   "outputs": [
    {
     "name": "stdout",
     "output_type": "stream",
     "text": [
      "{'location': {'name': 'San Francisco', 'region': 'California', 'country': 'United States of America', 'lat': 37.775, 'lon': -122.4183, 'tz_id': 'America/Los_Angeles', 'localtime_epoch': 1757564548, 'localtime': '2025-09-10 21:22'}, 'current': {'last_updated_epoch': 1757564100, 'last_updated': '2025-09-10 21:15', 'temp_c': 18.9, 'temp_f': 66.0, 'is_day': 0, 'condition': {'text': 'Overcast', 'icon': '//cdn.weatherapi.com/weather/64x64/night/122.png', 'code': 1009}, 'wind_mph': 9.4, 'wind_kph': 15.1, 'wind_degree': 270, 'wind_dir': 'W', 'pressure_mb': 1014.0, 'pressure_in': 29.95, 'precip_mm': 0.0, 'precip_in': 0.0, 'humidity': 75, 'cloud': 100, 'feelslike_c': 18.9, 'feelslike_f': 66.0, 'windchill_c': 15.9, 'windchill_f': 60.7, 'heatindex_c': 15.9, 'heatindex_f': 60.7, 'dewpoint_c': 15.1, 'dewpoint_f': 59.2, 'vis_km': 16.0, 'vis_miles': 9.0, 'uv': 0.0, 'gust_mph': 14.1, 'gust_kph': 22.7}}\n"
     ]
    }
   ],
   "source": [
    "# run search\n",
    "result = client.search(query, max_results=1)\n",
    "\n",
    "# print first result\n",
    "data = result[\"results\"][0][\"content\"]\n",
    "\n",
    "print(data)"
   ]
  },
  {
   "cell_type": "code",
   "execution_count": 12,
   "id": "0722c3d4-4cbf-43bf-81b0-50f634c4ce61",
   "metadata": {
    "height": 251
   },
   "outputs": [
    {
     "name": "stdout",
     "output_type": "stream",
     "text": [
      "{\u001b[37m\u001b[39;49;00m\n",
      "\u001b[37m    \u001b[39;49;00m\u001b[94m\"location\"\u001b[39;49;00m:\u001b[37m \u001b[39;49;00m{\u001b[37m\u001b[39;49;00m\n",
      "\u001b[37m        \u001b[39;49;00m\u001b[94m\"name\"\u001b[39;49;00m:\u001b[37m \u001b[39;49;00m\u001b[33m\"San Francisco\"\u001b[39;49;00m,\u001b[37m\u001b[39;49;00m\n",
      "\u001b[37m        \u001b[39;49;00m\u001b[94m\"region\"\u001b[39;49;00m:\u001b[37m \u001b[39;49;00m\u001b[33m\"California\"\u001b[39;49;00m,\u001b[37m\u001b[39;49;00m\n",
      "\u001b[37m        \u001b[39;49;00m\u001b[94m\"country\"\u001b[39;49;00m:\u001b[37m \u001b[39;49;00m\u001b[33m\"United States of America\"\u001b[39;49;00m,\u001b[37m\u001b[39;49;00m\n",
      "\u001b[37m        \u001b[39;49;00m\u001b[94m\"lat\"\u001b[39;49;00m:\u001b[37m \u001b[39;49;00m\u001b[34m37.775\u001b[39;49;00m,\u001b[37m\u001b[39;49;00m\n",
      "\u001b[37m        \u001b[39;49;00m\u001b[94m\"lon\"\u001b[39;49;00m:\u001b[37m \u001b[39;49;00m\u001b[34m-122.4183\u001b[39;49;00m,\u001b[37m\u001b[39;49;00m\n",
      "\u001b[37m        \u001b[39;49;00m\u001b[94m\"tz_id\"\u001b[39;49;00m:\u001b[37m \u001b[39;49;00m\u001b[33m\"America/Los_Angeles\"\u001b[39;49;00m,\u001b[37m\u001b[39;49;00m\n",
      "\u001b[37m        \u001b[39;49;00m\u001b[94m\"localtime_epoch\"\u001b[39;49;00m:\u001b[37m \u001b[39;49;00m\u001b[34m1757564548\u001b[39;49;00m,\u001b[37m\u001b[39;49;00m\n",
      "\u001b[37m        \u001b[39;49;00m\u001b[94m\"localtime\"\u001b[39;49;00m:\u001b[37m \u001b[39;49;00m\u001b[33m\"2025-09-10 21:22\"\u001b[39;49;00m\u001b[37m\u001b[39;49;00m\n",
      "\u001b[37m    \u001b[39;49;00m},\u001b[37m\u001b[39;49;00m\n",
      "\u001b[37m    \u001b[39;49;00m\u001b[94m\"current\"\u001b[39;49;00m:\u001b[37m \u001b[39;49;00m{\u001b[37m\u001b[39;49;00m\n",
      "\u001b[37m        \u001b[39;49;00m\u001b[94m\"last_updated_epoch\"\u001b[39;49;00m:\u001b[37m \u001b[39;49;00m\u001b[34m1757564100\u001b[39;49;00m,\u001b[37m\u001b[39;49;00m\n",
      "\u001b[37m        \u001b[39;49;00m\u001b[94m\"last_updated\"\u001b[39;49;00m:\u001b[37m \u001b[39;49;00m\u001b[33m\"2025-09-10 21:15\"\u001b[39;49;00m,\u001b[37m\u001b[39;49;00m\n",
      "\u001b[37m        \u001b[39;49;00m\u001b[94m\"temp_c\"\u001b[39;49;00m:\u001b[37m \u001b[39;49;00m\u001b[34m18.9\u001b[39;49;00m,\u001b[37m\u001b[39;49;00m\n",
      "\u001b[37m        \u001b[39;49;00m\u001b[94m\"temp_f\"\u001b[39;49;00m:\u001b[37m \u001b[39;49;00m\u001b[34m66.0\u001b[39;49;00m,\u001b[37m\u001b[39;49;00m\n",
      "\u001b[37m        \u001b[39;49;00m\u001b[94m\"is_day\"\u001b[39;49;00m:\u001b[37m \u001b[39;49;00m\u001b[34m0\u001b[39;49;00m,\u001b[37m\u001b[39;49;00m\n",
      "\u001b[37m        \u001b[39;49;00m\u001b[94m\"condition\"\u001b[39;49;00m:\u001b[37m \u001b[39;49;00m{\u001b[37m\u001b[39;49;00m\n",
      "\u001b[37m            \u001b[39;49;00m\u001b[94m\"text\"\u001b[39;49;00m:\u001b[37m \u001b[39;49;00m\u001b[33m\"Overcast\"\u001b[39;49;00m,\u001b[37m\u001b[39;49;00m\n",
      "\u001b[37m            \u001b[39;49;00m\u001b[94m\"icon\"\u001b[39;49;00m:\u001b[37m \u001b[39;49;00m\u001b[33m\"//cdn.weatherapi.com/weather/64x64/night/122.png\"\u001b[39;49;00m,\u001b[37m\u001b[39;49;00m\n",
      "\u001b[37m            \u001b[39;49;00m\u001b[94m\"code\"\u001b[39;49;00m:\u001b[37m \u001b[39;49;00m\u001b[34m1009\u001b[39;49;00m\u001b[37m\u001b[39;49;00m\n",
      "\u001b[37m        \u001b[39;49;00m},\u001b[37m\u001b[39;49;00m\n",
      "\u001b[37m        \u001b[39;49;00m\u001b[94m\"wind_mph\"\u001b[39;49;00m:\u001b[37m \u001b[39;49;00m\u001b[34m9.4\u001b[39;49;00m,\u001b[37m\u001b[39;49;00m\n",
      "\u001b[37m        \u001b[39;49;00m\u001b[94m\"wind_kph\"\u001b[39;49;00m:\u001b[37m \u001b[39;49;00m\u001b[34m15.1\u001b[39;49;00m,\u001b[37m\u001b[39;49;00m\n",
      "\u001b[37m        \u001b[39;49;00m\u001b[94m\"wind_degree\"\u001b[39;49;00m:\u001b[37m \u001b[39;49;00m\u001b[34m270\u001b[39;49;00m,\u001b[37m\u001b[39;49;00m\n",
      "\u001b[37m        \u001b[39;49;00m\u001b[94m\"wind_dir\"\u001b[39;49;00m:\u001b[37m \u001b[39;49;00m\u001b[33m\"W\"\u001b[39;49;00m,\u001b[37m\u001b[39;49;00m\n",
      "\u001b[37m        \u001b[39;49;00m\u001b[94m\"pressure_mb\"\u001b[39;49;00m:\u001b[37m \u001b[39;49;00m\u001b[34m1014.0\u001b[39;49;00m,\u001b[37m\u001b[39;49;00m\n",
      "\u001b[37m        \u001b[39;49;00m\u001b[94m\"pressure_in\"\u001b[39;49;00m:\u001b[37m \u001b[39;49;00m\u001b[34m29.95\u001b[39;49;00m,\u001b[37m\u001b[39;49;00m\n",
      "\u001b[37m        \u001b[39;49;00m\u001b[94m\"precip_mm\"\u001b[39;49;00m:\u001b[37m \u001b[39;49;00m\u001b[34m0.0\u001b[39;49;00m,\u001b[37m\u001b[39;49;00m\n",
      "\u001b[37m        \u001b[39;49;00m\u001b[94m\"precip_in\"\u001b[39;49;00m:\u001b[37m \u001b[39;49;00m\u001b[34m0.0\u001b[39;49;00m,\u001b[37m\u001b[39;49;00m\n",
      "\u001b[37m        \u001b[39;49;00m\u001b[94m\"humidity\"\u001b[39;49;00m:\u001b[37m \u001b[39;49;00m\u001b[34m75\u001b[39;49;00m,\u001b[37m\u001b[39;49;00m\n",
      "\u001b[37m        \u001b[39;49;00m\u001b[94m\"cloud\"\u001b[39;49;00m:\u001b[37m \u001b[39;49;00m\u001b[34m100\u001b[39;49;00m,\u001b[37m\u001b[39;49;00m\n",
      "\u001b[37m        \u001b[39;49;00m\u001b[94m\"feelslike_c\"\u001b[39;49;00m:\u001b[37m \u001b[39;49;00m\u001b[34m18.9\u001b[39;49;00m,\u001b[37m\u001b[39;49;00m\n",
      "\u001b[37m        \u001b[39;49;00m\u001b[94m\"feelslike_f\"\u001b[39;49;00m:\u001b[37m \u001b[39;49;00m\u001b[34m66.0\u001b[39;49;00m,\u001b[37m\u001b[39;49;00m\n",
      "\u001b[37m        \u001b[39;49;00m\u001b[94m\"windchill_c\"\u001b[39;49;00m:\u001b[37m \u001b[39;49;00m\u001b[34m15.9\u001b[39;49;00m,\u001b[37m\u001b[39;49;00m\n",
      "\u001b[37m        \u001b[39;49;00m\u001b[94m\"windchill_f\"\u001b[39;49;00m:\u001b[37m \u001b[39;49;00m\u001b[34m60.7\u001b[39;49;00m,\u001b[37m\u001b[39;49;00m\n",
      "\u001b[37m        \u001b[39;49;00m\u001b[94m\"heatindex_c\"\u001b[39;49;00m:\u001b[37m \u001b[39;49;00m\u001b[34m15.9\u001b[39;49;00m,\u001b[37m\u001b[39;49;00m\n",
      "\u001b[37m        \u001b[39;49;00m\u001b[94m\"heatindex_f\"\u001b[39;49;00m:\u001b[37m \u001b[39;49;00m\u001b[34m60.7\u001b[39;49;00m,\u001b[37m\u001b[39;49;00m\n",
      "\u001b[37m        \u001b[39;49;00m\u001b[94m\"dewpoint_c\"\u001b[39;49;00m:\u001b[37m \u001b[39;49;00m\u001b[34m15.1\u001b[39;49;00m,\u001b[37m\u001b[39;49;00m\n",
      "\u001b[37m        \u001b[39;49;00m\u001b[94m\"dewpoint_f\"\u001b[39;49;00m:\u001b[37m \u001b[39;49;00m\u001b[34m59.2\u001b[39;49;00m,\u001b[37m\u001b[39;49;00m\n",
      "\u001b[37m        \u001b[39;49;00m\u001b[94m\"vis_km\"\u001b[39;49;00m:\u001b[37m \u001b[39;49;00m\u001b[34m16.0\u001b[39;49;00m,\u001b[37m\u001b[39;49;00m\n",
      "\u001b[37m        \u001b[39;49;00m\u001b[94m\"vis_miles\"\u001b[39;49;00m:\u001b[37m \u001b[39;49;00m\u001b[34m9.0\u001b[39;49;00m,\u001b[37m\u001b[39;49;00m\n",
      "\u001b[37m        \u001b[39;49;00m\u001b[94m\"uv\"\u001b[39;49;00m:\u001b[37m \u001b[39;49;00m\u001b[34m0.0\u001b[39;49;00m,\u001b[37m\u001b[39;49;00m\n",
      "\u001b[37m        \u001b[39;49;00m\u001b[94m\"gust_mph\"\u001b[39;49;00m:\u001b[37m \u001b[39;49;00m\u001b[34m14.1\u001b[39;49;00m,\u001b[37m\u001b[39;49;00m\n",
      "\u001b[37m        \u001b[39;49;00m\u001b[94m\"gust_kph\"\u001b[39;49;00m:\u001b[37m \u001b[39;49;00m\u001b[34m22.7\u001b[39;49;00m\u001b[37m\u001b[39;49;00m\n",
      "\u001b[37m    \u001b[39;49;00m}\u001b[37m\u001b[39;49;00m\n",
      "}\u001b[37m\u001b[39;49;00m\n",
      "\n"
     ]
    }
   ],
   "source": [
    "import json\n",
    "from pygments import highlight, lexers, formatters\n",
    "\n",
    "# parse JSON\n",
    "parsed_json = json.loads(data.replace(\"'\", '\"'))\n",
    "\n",
    "# pretty print JSON with syntax highlighting\n",
    "formatted_json = json.dumps(parsed_json, indent=4)\n",
    "colorful_json = highlight(formatted_json,\n",
    "                          lexers.JsonLexer(),\n",
    "                          formatters.TerminalFormatter())\n",
    "\n",
    "print(colorful_json)\n"
   ]
  },
  {
   "cell_type": "markdown",
   "id": "837f3ecd-df6b-4f2f-9325-a253678897b0",
   "metadata": {},
   "source": [
    "<img src=\"./google_sample.png\" width=\"800\" height=\"600\">"
   ]
  },
  {
   "cell_type": "code",
   "execution_count": null,
   "id": "61f79eb9-d1c9-44b0-9efd-a8f9b380332a",
   "metadata": {
    "height": 30
   },
   "outputs": [],
   "source": []
  }
 ],
 "metadata": {
  "kernelspec": {
   "display_name": "Python 3 (ipykernel)",
   "language": "python",
   "name": "python3"
  },
  "language_info": {
   "codemirror_mode": {
    "name": "ipython",
    "version": 3
   },
   "file_extension": ".py",
   "mimetype": "text/x-python",
   "name": "python",
   "nbconvert_exporter": "python",
   "pygments_lexer": "ipython3",
   "version": "3.11.9"
  }
 },
 "nbformat": 4,
 "nbformat_minor": 5
}
