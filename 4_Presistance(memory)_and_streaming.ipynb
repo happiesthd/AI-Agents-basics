{
 "cells": [
  {
   "cell_type": "markdown",
   "id": "b5789bc3-b1ae-42c7-94a8-2ef4f89946fc",
   "metadata": {},
   "source": [
    "# Lesson 4: Persistence and Streaming"
   ]
  },
  {
   "cell_type": "markdown",
   "id": "3901b1e6",
   "metadata": {},
   "source": [
    "go through the code concept, do not look at the outputs are the website from where weather data is supposed to be fetched is down"
   ]
  },
  {
   "cell_type": "code",
   "execution_count": 17,
   "id": "f5762271-8736-4e94-9444-8c92bd0e8074",
   "metadata": {
    "height": 64
   },
   "outputs": [],
   "source": [
    "from dotenv import load_dotenv\n",
    "\n",
    "_ = load_dotenv()"
   ]
  },
  {
   "cell_type": "code",
   "execution_count": 18,
   "id": "d0168aee-bce9-4d60-b827-f86a88187e31",
   "metadata": {
    "height": 115
   },
   "outputs": [],
   "source": [
    "from langgraph.graph import StateGraph, END\n",
    "from typing import TypedDict, Annotated\n",
    "import operator\n",
    "from langchain_core.messages import AnyMessage, SystemMessage, HumanMessage, ToolMessage\n",
    "from langchain_openai import ChatOpenAI\n",
    "from langchain_community.tools.tavily_search import TavilySearchResults"
   ]
  },
  {
   "cell_type": "code",
   "execution_count": 19,
   "id": "da06a64f-a2d5-4a66-8090-9ada0930c684",
   "metadata": {
    "height": 30
   },
   "outputs": [],
   "source": [
    "tool = TavilySearchResults(max_results=2)"
   ]
  },
  {
   "cell_type": "code",
   "execution_count": 20,
   "id": "2589c5b6-6cc2-4594-9a17-dccdcf676054",
   "metadata": {
    "height": 47
   },
   "outputs": [],
   "source": [
    "class AgentState(TypedDict):\n",
    "    messages: Annotated[list[AnyMessage], operator.add]"
   ]
  },
  {
   "cell_type": "code",
   "execution_count": 21,
   "id": "9c033522-d2fc-41ac-8e3c-5e35872bf88d",
   "metadata": {
    "height": 64
   },
   "outputs": [],
   "source": [
    "from langgraph.checkpoint.sqlite import SqliteSaver #builtin sqliteserver, that works with kernel, can replace by persistent database\n",
    "\n",
    "memory = SqliteSaver.from_conn_string(\":memory:\")"
   ]
  },
  {
   "cell_type": "code",
   "execution_count": 22,
   "id": "a2ba84ec-c172-4de7-ac55-e3158a531b23",
   "metadata": {
    "height": 574
   },
   "outputs": [],
   "source": [
    "class Agent:\n",
    "    def __init__(self, model, tools, checkpointer, system=\"\"):\n",
    "        self.system = system\n",
    "        graph = StateGraph(AgentState)\n",
    "        graph.add_node(\"llm\", self.call_openai)\n",
    "        graph.add_node(\"action\", self.take_action)\n",
    "        graph.add_conditional_edges(\"llm\", self.exists_action, {True: \"action\", False: END})\n",
    "        graph.add_edge(\"action\", \"llm\")\n",
    "        graph.set_entry_point(\"llm\")\n",
    "        self.graph = graph.compile(checkpointer=checkpointer) #checkpoints the state - after and between every node\n",
    "        self.tools = {t.name: t for t in tools}\n",
    "        self.model = model.bind_tools(tools)\n",
    "\n",
    "    def call_openai(self, state: AgentState):\n",
    "        messages = state['messages']\n",
    "        if self.system:\n",
    "            messages = [SystemMessage(content=self.system)] + messages\n",
    "        message = self.model.invoke(messages)\n",
    "        return {'messages': [message]}\n",
    "\n",
    "    def exists_action(self, state: AgentState):\n",
    "        result = state['messages'][-1]\n",
    "        return len(result.tool_calls) > 0\n",
    "\n",
    "    def take_action(self, state: AgentState):\n",
    "        tool_calls = state['messages'][-1].tool_calls\n",
    "        results = []\n",
    "        for t in tool_calls:\n",
    "            print(f\"Calling: {t}\")\n",
    "            result = self.tools[t['name']].invoke(t['args'])\n",
    "            results.append(ToolMessage(tool_call_id=t['id'], name=t['name'], content=str(result)))\n",
    "        print(\"Back to the model!\")\n",
    "        return {'messages': results}"
   ]
  },
  {
   "cell_type": "code",
   "execution_count": 23,
   "id": "876d5092-b8ef-4e38-b4d7-0e80c609bf7a",
   "metadata": {
    "height": 132
   },
   "outputs": [],
   "source": [
    "prompt = \"\"\"You are a smart research assistant. Use the search engine to look up information. \\\n",
    "You are allowed to make multiple calls (either together or in sequence). \\\n",
    "Only look up information when you are sure of what you want. \\\n",
    "If you need to look up some information before asking a follow up question, you are allowed to do that!\n",
    "\"\"\"\n",
    "model = ChatOpenAI(model=\"gpt-4o\")\n",
    "abot = Agent(model, [tool], system=prompt, checkpointer=memory) #add checkpointer memory"
   ]
  },
  {
   "cell_type": "code",
   "execution_count": 24,
   "id": "10084a02-2928-4945-9f7c-ad3f5b33caf7",
   "metadata": {
    "height": 30
   },
   "outputs": [],
   "source": [
    "messages = [HumanMessage(content=\"What is the weather in sf?\")]"
   ]
  },
  {
   "cell_type": "code",
   "execution_count": 25,
   "id": "714d1205-f8fc-4912-b148-2a45da99219c",
   "metadata": {
    "height": 30
   },
   "outputs": [],
   "source": [
    "#keep track of diff conversations going on at same time\n",
    "thread = {\"configurable\": {\"thread_id\": \"1\"}}"
   ]
  },
  {
   "cell_type": "code",
   "execution_count": 26,
   "id": "83588e70-254f-4f83-a510-c8ae81e729b0",
   "metadata": {
    "height": 64
   },
   "outputs": [
    {
     "name": "stdout",
     "output_type": "stream",
     "text": [
      "[AIMessage(content='', additional_kwargs={'tool_calls': [{'id': 'call_bmfLa92f6oAIKN9KvXtqbKDz', 'function': {'arguments': '{\"query\":\"current weather in San Francisco\"}', 'name': 'tavily_search_results_json'}, 'type': 'function'}]}, response_metadata={'token_usage': {'completion_tokens': 22, 'prompt_tokens': 151, 'total_tokens': 173, 'prompt_tokens_details': {'cached_tokens': 0, 'audio_tokens': 0}, 'completion_tokens_details': {'reasoning_tokens': 0, 'audio_tokens': 0, 'accepted_prediction_tokens': 0, 'rejected_prediction_tokens': 0}}, 'model_name': 'gpt-4o', 'system_fingerprint': 'fp_831e067d82', 'finish_reason': 'tool_calls', 'logprobs': None}, id='run-c4cd2a0e-4d05-4a71-a12e-a5ff0d626903-0', tool_calls=[{'name': 'tavily_search_results_json', 'args': {'query': 'current weather in San Francisco'}, 'id': 'call_bmfLa92f6oAIKN9KvXtqbKDz'}])]\n",
      "Calling: {'name': 'tavily_search_results_json', 'args': {'query': 'current weather in San Francisco'}, 'id': 'call_bmfLa92f6oAIKN9KvXtqbKDz'}\n",
      "Back to the model!\n",
      "[ToolMessage(content=\"[{'url': 'https://www.weather25.com/north-america/usa/california/san-francisco?page=month&month=September', 'content': 'Temperatures\\\\nRainy Days\\\\nSnowy Days\\\\nDry Days\\\\nRainfall\\\\n11.9 [...] weather25.com\\\\nSearch\\\\nweather in United States\\\\nRemove from your favorite locations\\\\nAdd to my locations\\\\nShare\\\\nweather in United States\\\\n\\\\n# San Francisco weather in September 2025\\\\n\\\\nMist\\\\nMist\\\\nFog\\\\nFog\\\\nClear\\\\nClear\\\\nClear\\\\nClear\\\\nClear\\\\nClear\\\\nPartly cloudy\\\\nPatchy rain possible\\\\nClear\\\\nClear\\\\n\\\\n## The average weather in San Francisco in September\\\\n\\\\nThe temperatures in San Francisco in September are comfortable with low of 14°C and and high up to 25°C. [...] | June | 23° / 12° | 0 | 30 | 0 | 6 mm | Perfect | San Francisco in June |\\\\n| July | 25° / 14° | 0 | 31 | 0 | 3 mm | Perfect | San Francisco in July |\\\\n| August | 25° / 14° | 0 | 31 | 0 | 3 mm | Perfect | San Francisco in August |\\\\n| September | 25° / 14° | 0 | 30 | 0 | 4 mm | Perfect | San Francisco in September |\\\\n| October | 23° / 13° | 1 | 30 | 0 | 26 mm | Perfect | San Francisco in October |\\\\n| November | 18° / 10° | 3 | 27 | 0 | 37 mm | Good | San Francisco in November |'}, {'url': 'https://www.accuweather.com/en/us/san-francisco/94103/september-weather/347629', 'content': '### November 2025\\\\n\\\\n### December 2025\\\\n\\\\n## Around the Globe\\\\n\\\\nAround the Globe\\\\n\\\\n### Hurricane Tracker\\\\n\\\\n### Severe Weather\\\\n\\\\n### Radar & Maps\\\\n\\\\n### News\\\\n\\\\n### Video\\\\n\\\\n### Winter Center\\\\n\\\\nTop Stories\\\\n\\\\nHurricane\\\\n\\\\nAtlantic, Gulf warming increases risk for hurricanes\\\\n\\\\n13 hours ago\\\\n\\\\nWeather News\\\\n\\\\nDaylight saving time 2025: When do clocks fall back?\\\\n\\\\n13 hours ago\\\\n\\\\nWeather Forecasts\\\\n\\\\nStorms to help firefighters, but spark new dangers in western US\\\\n\\\\n16 hours ago\\\\n\\\\nWeather News [...] # San Francisco, CA\\\\n\\\\nSan Francisco\\\\n\\\\nCalifornia\\\\n\\\\n## Around the Globe\\\\n\\\\nAround the Globe\\\\n\\\\n### Hurricane Tracker\\\\n\\\\n### Severe Weather\\\\n\\\\n### Radar & Maps\\\\n\\\\n### News & Features\\\\n\\\\n### Astronomy\\\\n\\\\n### Business\\\\n\\\\n### Climate\\\\n\\\\n### Health\\\\n\\\\n### Recreation\\\\n\\\\n### Sports\\\\n\\\\n### Travel\\\\n\\\\n### Warnings\\\\n\\\\n### Data Suite\\\\n\\\\n### Forensics\\\\n\\\\n### Advertising\\\\n\\\\n### Superior Accuracy™\\\\n\\\\n### Video\\\\n\\\\n### Winter Center\\\\n\\\\n## Monthly\\\\n\\\\n## September\\\\n\\\\n## 2025\\\\n\\\\n## Daily\\\\n\\\\n## Temperature Graph\\\\n\\\\n## Further Ahead\\\\n\\\\nFurther Ahead\\\\n\\\\n### October 2025 [...] 125 years later, Galveston hurricane is still the deadliest U.S. storm\\\\n\\\\n2 days ago\\\\n\\\\nClimate\\\\n\\\\nScientists find a surprising reason why people are eating more sugar\\\\n\\\\n2 days ago\\\\n\\\\n## Weather Near San Francisco:\\\\n\\\\n...\\\\n\\\\n...\\\\n\\\\n...'}]\", name='tavily_search_results_json', tool_call_id='call_bmfLa92f6oAIKN9KvXtqbKDz')]\n",
      "[AIMessage(content=\"I couldn't find the exact current weather details for San Francisco at the moment. You might want to check a weather website or app for the most up-to-date information.\", response_metadata={'token_usage': {'completion_tokens': 34, 'prompt_tokens': 918, 'total_tokens': 952, 'prompt_tokens_details': {'cached_tokens': 0, 'audio_tokens': 0}, 'completion_tokens_details': {'reasoning_tokens': 0, 'audio_tokens': 0, 'accepted_prediction_tokens': 0, 'rejected_prediction_tokens': 0}}, 'model_name': 'gpt-4o', 'system_fingerprint': 'fp_cbf1785567', 'finish_reason': 'stop', 'logprobs': None}, id='run-f7ecd929-414f-43b3-9f04-6eadffcc1e20-0')]\n"
     ]
    }
   ],
   "source": [
    "for event in abot.graph.stream({\"messages\": messages}, thread): #graph with sream and thread\n",
    "    for v in event.values():\n",
    "        print(v['messages'])\n",
    "        \n",
    "        "
   ]
  },
  {
   "cell_type": "code",
   "execution_count": 27,
   "id": "6cb3ef4c-58b3-401b-b104-0d51e553d982",
   "metadata": {
    "height": 98
   },
   "outputs": [
    {
     "name": "stdout",
     "output_type": "stream",
     "text": [
      "{'messages': [AIMessage(content='', additional_kwargs={'tool_calls': [{'id': 'call_wC8OOs1s23Yzemuu7B6Wynug', 'function': {'arguments': '{\"query\":\"current weather in Los Angeles\"}', 'name': 'tavily_search_results_json'}, 'type': 'function'}]}, response_metadata={'token_usage': {'completion_tokens': 22, 'prompt_tokens': 964, 'total_tokens': 986, 'prompt_tokens_details': {'cached_tokens': 0, 'audio_tokens': 0}, 'completion_tokens_details': {'reasoning_tokens': 0, 'audio_tokens': 0, 'accepted_prediction_tokens': 0, 'rejected_prediction_tokens': 0}}, 'model_name': 'gpt-4o', 'system_fingerprint': 'fp_cbf1785567', 'finish_reason': 'tool_calls', 'logprobs': None}, id='run-53552f39-e225-4ea1-afc4-d77f34bcb5a0-0', tool_calls=[{'name': 'tavily_search_results_json', 'args': {'query': 'current weather in Los Angeles'}, 'id': 'call_wC8OOs1s23Yzemuu7B6Wynug'}])]}\n",
      "Calling: {'name': 'tavily_search_results_json', 'args': {'query': 'current weather in Los Angeles'}, 'id': 'call_wC8OOs1s23Yzemuu7B6Wynug'}\n",
      "Back to the model!\n",
      "{'messages': [ToolMessage(content=\"[{'url': 'https://www.accuweather.com/en/us/los-angeles/90012/september-weather/347625', 'content': '### November 2025\\\\n\\\\n### December 2025\\\\n\\\\n## Around the Globe\\\\n\\\\nAround the Globe\\\\n\\\\n### Hurricane Tracker\\\\n\\\\n### Severe Weather\\\\n\\\\n### Radar & Maps\\\\n\\\\n### News\\\\n\\\\n### Video\\\\n\\\\n### Winter Center\\\\n\\\\nTop Stories\\\\n\\\\nHurricane\\\\n\\\\nAtlantic, Gulf warming increases risk for hurricanes\\\\n\\\\n13 hours ago\\\\n\\\\nWeather News\\\\n\\\\nDaylight saving time 2025: When do clocks fall back?\\\\n\\\\n13 hours ago\\\\n\\\\nWeather Forecasts\\\\n\\\\nStorms to help firefighters, but spark new dangers in western US\\\\n\\\\n16 hours ago\\\\n\\\\nWeather News [...] # Los Angeles, CA\\\\n\\\\nLos Angeles\\\\n\\\\nCalifornia\\\\n\\\\n## Around the Globe\\\\n\\\\nAround the Globe\\\\n\\\\n### Hurricane Tracker\\\\n\\\\n### Severe Weather\\\\n\\\\n### Radar & Maps\\\\n\\\\n### News & Features\\\\n\\\\n### Astronomy\\\\n\\\\n### Business\\\\n\\\\n### Climate\\\\n\\\\n### Health\\\\n\\\\n### Recreation\\\\n\\\\n### Sports\\\\n\\\\n### Travel\\\\n\\\\n### Warnings\\\\n\\\\n### Data Suite\\\\n\\\\n### Forensics\\\\n\\\\n### Advertising\\\\n\\\\n### Superior Accuracy™\\\\n\\\\n### Video\\\\n\\\\n### Winter Center\\\\n\\\\n## Monthly\\\\n\\\\n## September\\\\n\\\\n## 2025\\\\n\\\\n## Daily\\\\n\\\\n## Temperature Graph\\\\n\\\\n## Further Ahead\\\\n\\\\nFurther Ahead\\\\n\\\\n### October 2025 [...] 125 years later, Galveston hurricane is still the deadliest U.S. storm\\\\n\\\\n2 days ago\\\\n\\\\nClimate\\\\n\\\\nScientists find a surprising reason why people are eating more sugar\\\\n\\\\n2 days ago\\\\n\\\\n## Weather Near Los Angeles:\\\\n\\\\n...\\\\n\\\\n...\\\\n\\\\n...'}, {'url': 'https://www.weather25.com/north-america/usa/california/los-angeles?page=month&month=September', 'content': '| August | 31° / 21° | Good | 0 | 31 | 0 | 3 mm |\\\\n| September | 31° / 21° | Good | 0 | 30 | 0 | 4 mm |\\\\n| October | 27° / 18° | Perfect | 1 | 30 | 0 | 10 mm |\\\\n| November | 24° / 14° | Perfect | 1 | 29 | 0 | 22 mm |\\\\n| December | 19° / 11° | Good | 3 | 28 | 0 | 66 mm | [...] weather25.com\\\\nSearch\\\\nweather in United States\\\\nRemove from your favorite locations\\\\nAdd to my locations\\\\nShare\\\\nweather in United States\\\\n\\\\n# Los Angeles weather in September 2025\\\\n\\\\nPartly cloudy\\\\nOvercast\\\\nCloudy\\\\nCloudy\\\\nClear\\\\nClear\\\\nClear\\\\nClear\\\\nClear\\\\nPartly cloudy\\\\nPatchy rain possible\\\\nPatchy rain possible\\\\nPatchy rain possible\\\\nClear\\\\n\\\\n## The average weather in Los Angeles in September\\\\n\\\\nThe weather in Los Angeles in September is hot. The average temperatures are between 21°C and 31°C. [...] Temperatures\\\\nRainy Days\\\\nSnowy Days\\\\nDry Days\\\\nRainfall\\\\n11.8'}]\", name='tavily_search_results_json', tool_call_id='call_wC8OOs1s23Yzemuu7B6Wynug')]}\n",
      "{'messages': [AIMessage(content=\"I couldn't find the exact current weather details for Los Angeles at the moment. You might want to check a weather website or app for the most up-to-date information.\", response_metadata={'token_usage': {'completion_tokens': 34, 'prompt_tokens': 1681, 'total_tokens': 1715, 'prompt_tokens_details': {'cached_tokens': 1280, 'audio_tokens': 0}, 'completion_tokens_details': {'reasoning_tokens': 0, 'audio_tokens': 0, 'accepted_prediction_tokens': 0, 'rejected_prediction_tokens': 0}}, 'model_name': 'gpt-4o', 'system_fingerprint': 'fp_cbf1785567', 'finish_reason': 'stop', 'logprobs': None}, id='run-7b618527-dae2-49e5-9937-bd0b904db6bd-0')]}\n"
     ]
    }
   ],
   "source": [
    "messages = [HumanMessage(content=\"What about in la?\")] #follow up ques, so same thread ID called\n",
    "thread = {\"configurable\": {\"thread_id\": \"1\"}}\n",
    "for event in abot.graph.stream({\"messages\": messages}, thread):\n",
    "    for v in event.values():\n",
    "        print(v)"
   ]
  },
  {
   "cell_type": "code",
   "execution_count": 28,
   "id": "dc3293b7-a50c-43c8-a022-8975e1e444b8",
   "metadata": {
    "height": 98
   },
   "outputs": [
    {
     "name": "stdout",
     "output_type": "stream",
     "text": [
      "{'messages': [AIMessage(content='Based on the average temperatures typically observed, Los Angeles tends to be warmer than San Francisco. In September, for example, the average temperatures in Los Angeles range from 21°C to 31°C, while in San Francisco, they range from 14°C to 25°C. However, for current conditions, you would need to check a reliable weather source or app.', response_metadata={'token_usage': {'completion_tokens': 75, 'prompt_tokens': 1727, 'total_tokens': 1802, 'prompt_tokens_details': {'cached_tokens': 1664, 'audio_tokens': 0}, 'completion_tokens_details': {'reasoning_tokens': 0, 'audio_tokens': 0, 'accepted_prediction_tokens': 0, 'rejected_prediction_tokens': 0}}, 'model_name': 'gpt-4o', 'system_fingerprint': 'fp_cbf1785567', 'finish_reason': 'stop', 'logprobs': None}, id='run-3404fa11-bb31-4cc5-aa83-caca59346622-0')]}\n"
     ]
    }
   ],
   "source": [
    "messages = [HumanMessage(content=\"Which one is warmer?\")]\n",
    "thread = {\"configurable\": {\"thread_id\": \"1\"}}\n",
    "for event in abot.graph.stream({\"messages\": messages}, thread):\n",
    "    for v in event.values():\n",
    "        print(v)"
   ]
  },
  {
   "cell_type": "code",
   "execution_count": 29,
   "id": "0722c3d4-4cbf-43bf-81b0-50f634c4ce61",
   "metadata": {
    "height": 98
   },
   "outputs": [
    {
     "name": "stdout",
     "output_type": "stream",
     "text": [
      "{'messages': [AIMessage(content=\"Could you please clarify what you're comparing to determine which is warmer? Are you comparing two specific locations, types of clothing, materials, or something else? Let me know so I can provide the appropriate information.\", response_metadata={'token_usage': {'completion_tokens': 43, 'prompt_tokens': 149, 'total_tokens': 192, 'prompt_tokens_details': {'cached_tokens': 0, 'audio_tokens': 0}, 'completion_tokens_details': {'reasoning_tokens': 0, 'audio_tokens': 0, 'accepted_prediction_tokens': 0, 'rejected_prediction_tokens': 0}}, 'model_name': 'gpt-4o', 'system_fingerprint': 'fp_f9f4fb6dbf', 'finish_reason': 'stop', 'logprobs': None}, id='run-068e1939-2bae-4d68-8771-e017b1b743a4-0')]}\n"
     ]
    }
   ],
   "source": [
    "messages = [HumanMessage(content=\"Which one is warmer?\")]\n",
    "thread = {\"configurable\": {\"thread_id\": \"2\"}} #id changed so it doesn't have any access to history, hence model will not give any clear results\n",
    "for event in abot.graph.stream({\"messages\": messages}, thread):\n",
    "    for v in event.values():\n",
    "        print(v)"
   ]
  },
  {
   "cell_type": "markdown",
   "id": "ace59a36-3941-459e-b9d1-ac5a4a1ed3ae",
   "metadata": {},
   "source": [
    "## Streaming tokens"
   ]
  },
  {
   "cell_type": "code",
   "execution_count": 30,
   "id": "6b2f82fe-3ec4-4917-be51-9fb10d1317fa",
   "metadata": {
    "height": 81
   },
   "outputs": [],
   "source": [
    "from langgraph.checkpoint.aiosqlite import AsyncSqliteSaver #astream requires async memory so we'll use asyncsqliteserver\n",
    "\n",
    "memory = AsyncSqliteSaver.from_conn_string(\":memory:\")\n",
    "abot = Agent(model, [tool], system=prompt, checkpointer=memory)"
   ]
  },
  {
   "cell_type": "code",
   "execution_count": 31,
   "id": "ee0fe1c7-77e2-499c-a2f9-1f739bb6ddf0",
   "metadata": {
    "height": 200
   },
   "outputs": [
    {
     "name": "stdout",
     "output_type": "stream",
     "text": [
      "Calling: {'name': 'tavily_search_results_json', 'args': {'query': 'current weather in San Francisco'}, 'id': 'call_GiHnpbt7P6kuX4g2n6imqDXI'}\n",
      "Back to the model!\n",
      "I| couldn't| find| the| exact| current| weather| for| San| Francisco|.| You| might| want| to| check| a| reliable| weather| website| or| app| for| the| most| up|-to|-date| information|.|"
     ]
    }
   ],
   "source": [
    "messages = [HumanMessage(content=\"What is the weather in SF?\")]\n",
    "thread = {\"configurable\": {\"thread_id\": \"4\"}}\n",
    "async for event in abot.graph.astream_events({\"messages\": messages}, thread, version=\"v1\"):\n",
    "    kind = event[\"event\"]\n",
    "    if kind == \"on_chat_model_stream\": \n",
    "        content = event[\"data\"][\"chunk\"].content\n",
    "        if content:\n",
    "            # Empty content in the context of OpenAI means\n",
    "            # that the model is asking for a tool to be invoked.\n",
    "            # So we only print non-empty content\n",
    "            print(content, end=\"|\")"
   ]
  },
  {
   "cell_type": "code",
   "execution_count": null,
   "id": "98f303b1-a4d0-408c-8cc0-515ff980717f",
   "metadata": {
    "height": 30
   },
   "outputs": [],
   "source": []
  }
 ],
 "metadata": {
  "kernelspec": {
   "display_name": "Python 3 (ipykernel)",
   "language": "python",
   "name": "python3"
  },
  "language_info": {
   "codemirror_mode": {
    "name": "ipython",
    "version": 3
   },
   "file_extension": ".py",
   "mimetype": "text/x-python",
   "name": "python",
   "nbconvert_exporter": "python",
   "pygments_lexer": "ipython3",
   "version": "3.11.9"
  }
 },
 "nbformat": 4,
 "nbformat_minor": 5
}
